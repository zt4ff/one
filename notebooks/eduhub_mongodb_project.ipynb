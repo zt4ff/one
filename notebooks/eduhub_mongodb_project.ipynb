{
 "cells": [
  {
   "cell_type": "code",
   "execution_count": 1,
   "id": "6b84d286",
   "metadata": {},
   "outputs": [],
   "source": [
    "import os\n",
    "import sys\n",
    "from datetime import datetime, timedelta, timezone\n",
    "\n",
    "module_path = os.path.abspath(os.path.join(\"..\", \"src\"))\n",
    "sys.path.insert(0, str(module_path))\n",
    "from eduhub_queries import EdHubDB\n"
   ]
  },
  {
   "cell_type": "code",
   "execution_count": 2,
   "id": "72ce0dc7",
   "metadata": {},
   "outputs": [
    {
     "name": "stdout",
     "output_type": "stream",
     "text": [
      "Created collection: users\n",
      "Created collection: courses\n",
      "Created collection: lessons\n",
      "Created collection: assignments\n",
      "Created collection: enrollments\n",
      "Created collection: submissions\n"
     ]
    }
   ],
   "source": [
    "# Part 1\n",
    "\n",
    "edhub = EdHubDB()\n",
    "edhub.build_collection()"
   ]
  },
  {
   "cell_type": "code",
   "execution_count": 3,
   "id": "cafb117a",
   "metadata": {},
   "outputs": [
    {
     "name": "stdout",
     "output_type": "stream",
     "text": [
      "Seeded 20 documents into 'users' collection.\n",
      "Seeded 8 documents into 'courses' collection.\n",
      "Seeded 15 documents into 'enrollments' collection.\n",
      "Seeded 15 documents into 'lessons' collection.\n",
      "Seeded 10 documents into 'assignments' collection.\n",
      "Seeded 12 documents into 'submissions' collection.\n"
     ]
    }
   ],
   "source": [
    "# Part 2\n",
    "edhub.seed_database()"
   ]
  },
  {
   "cell_type": "markdown",
   "id": "8aff137e",
   "metadata": {},
   "source": [
    "## Part 3 - Basic CRUD Operations\n",
    "###  Create Operations"
   ]
  },
  {
   "cell_type": "code",
   "execution_count": 4,
   "id": "69caae0a",
   "metadata": {},
   "outputs": [
    {
     "data": {
      "text/plain": [
       "{'_id': ObjectId('684dc494143cebd37347ea56'),\n",
       " 'userId': 'u100',\n",
       " 'email': 'garciapaul@example.org',\n",
       " 'firstName': 'Cory',\n",
       " 'lastName': 'Porter',\n",
       " 'role': 'student',\n",
       " 'dateJoined': datetime.datetime(2023, 8, 24, 18, 54, 48, 732000),\n",
       " 'profile': {'bio': 'Fall fly put who.',\n",
       "  'avatar': 'https://dummyimage.com/281x577',\n",
       "  'skills': ['MongoDB', 'Cloud Computing', 'APIs']},\n",
       " 'is_active': False}"
      ]
     },
     "execution_count": 4,
     "metadata": {},
     "output_type": "execute_result"
    }
   ],
   "source": [
    "# insert user\n",
    "\n",
    "user_id = \"u100\"\n",
    "edhub.insert_student(edhub.helper.make_user(user_id))\n",
    "\n",
    "# verify user is inserted\n",
    "edhub.users_col.find_one({\"userId\": user_id})"
   ]
  },
  {
   "cell_type": "code",
   "execution_count": 5,
   "id": "f08bd893",
   "metadata": {},
   "outputs": [
    {
     "data": {
      "text/plain": [
       "{'_id': ObjectId('684dc494143cebd37347ea57'),\n",
       " 'courseId': 'c100',\n",
       " 'title': 'Message stage past history list Democrat town.',\n",
       " 'description': 'Space apply bring process nor. Year general executive policy cold. Wrong fly brother maintain account.',\n",
       " 'instructorId': 'u2',\n",
       " 'category': 'ETL',\n",
       " 'level': 'advanced',\n",
       " 'duration': 87,\n",
       " 'price': 8764,\n",
       " 'tags': ['APIs', 'Machine Learning'],\n",
       " 'createdAt': datetime.datetime(2022, 7, 29, 9, 42, 18, 763000),\n",
       " 'updatedAt': datetime.datetime(2025, 4, 26, 22, 46, 14, 511000),\n",
       " 'isPublished': False}"
      ]
     },
     "execution_count": 5,
     "metadata": {},
     "output_type": "execute_result"
    }
   ],
   "source": [
    "# insert course\n",
    "course_id = \"c100\"\n",
    "user_id = \"u2\" # role is instructor\n",
    "edhub.insert_course(edhub.helper.make_course(course_id=course_id, instructor_id=user_id))\n",
    "\n",
    "# verify course is inserted\n",
    "edhub.courses_col.find_one({\"courseId\": course_id})"
   ]
  },
  {
   "cell_type": "code",
   "execution_count": 6,
   "id": "b3ed78fd",
   "metadata": {},
   "outputs": [
    {
     "name": "stdout",
     "output_type": "stream",
     "text": [
      "684dc494143cebd37347ea58\n"
     ]
    },
    {
     "data": {
      "text/plain": [
       "{'_id': ObjectId('684dc494143cebd37347ea58'),\n",
       " 'enrollmentId': 'e16',\n",
       " 'studentId': 'u100',\n",
       " 'courseId': 'c100',\n",
       " 'enrollmentDate': datetime.datetime(2016, 2, 14, 8, 20, 36, 636000),\n",
       " 'progress': 0.0,\n",
       " 'completed': False,\n",
       " 'certificateIssued': False}"
      ]
     },
     "execution_count": 6,
     "metadata": {},
     "output_type": "execute_result"
    }
   ],
   "source": [
    "# Enroll a student into a course\n",
    "user_id = \"u100\" # existing user that's a student\n",
    "course_id = \"c100\" # existing course\n",
    "\n",
    "inserted_id = edhub.register_student(student_id=user_id, course_id=course_id)\n",
    "\n",
    "# verify enrollment is created\n",
    "print(inserted_id)\n",
    "edhub.enrollments_col.find_one({\"_id\": inserted_id})"
   ]
  },
  {
   "cell_type": "code",
   "execution_count": 7,
   "id": "15bbda8e",
   "metadata": {},
   "outputs": [
    {
     "data": {
      "text/plain": [
       "{'_id': ObjectId('684dc494143cebd37347ea59'),\n",
       " 'lessonId': 'l100',\n",
       " 'courseId': 'c100',\n",
       " 'title': 'Determine section today option picture eight skin.',\n",
       " 'content': 'Sell nature should. Time guess mission adult the project past. Eat well still sport response put. Summer street go protect TV seem like. Head well increase activity.',\n",
       " 'order': 70,\n",
       " 'resources': ['intro.pdf'],\n",
       " 'duration': 30,\n",
       " 'createdAt': datetime.datetime(2023, 4, 24, 4, 5, 8, 718000),\n",
       " 'updatedAt': datetime.datetime(2024, 7, 21, 20, 39, 20, 763000)}"
      ]
     },
     "execution_count": 7,
     "metadata": {},
     "output_type": "execute_result"
    }
   ],
   "source": [
    "# Add a new lesson to an existing course\n",
    "course_id = \"c100\" # existing course\n",
    "lesson_id = \"l100\"\n",
    "\n",
    "edhub.insert_lesson(edhub.helper.make_lesson(lesson_id=lesson_id, course_id=course_id))\n",
    "\n",
    "# verify lesson is created\n",
    "edhub.lessons_col.find_one({\"lessonId\": lesson_id})"
   ]
  },
  {
   "cell_type": "markdown",
   "id": "7a3ed664",
   "metadata": {},
   "source": [
    "### Read Operations"
   ]
  },
  {
   "cell_type": "code",
   "execution_count": 8,
   "id": "2a9244c6",
   "metadata": {},
   "outputs": [
    {
     "data": {
      "text/plain": [
       "[{'_id': ObjectId('684dc494143cebd37347ea06'),\n",
       "  'userId': 'u1',\n",
       "  'email': 'alice.student@example.com',\n",
       "  'firstName': 'Alice',\n",
       "  'lastName': 'Johnson',\n",
       "  'role': 'student',\n",
       "  'dateJoined': datetime.datetime(2025, 4, 10, 9, 0),\n",
       "  'profile': {'bio': 'Aspiring developer.',\n",
       "   'avatar': 'alice.jpg',\n",
       "   'skills': ['JavaScript', 'HTML']},\n",
       "  'isActive': True},\n",
       " {'_id': ObjectId('684dc494143cebd37347ea08'),\n",
       "  'userId': 'u3',\n",
       "  'email': 'carol.student@example.com',\n",
       "  'firstName': 'Carol',\n",
       "  'lastName': 'Lee',\n",
       "  'role': 'student',\n",
       "  'dateJoined': datetime.datetime(2024, 2, 1, 11, 0),\n",
       "  'profile': {'bio': 'Interested in data science.',\n",
       "   'avatar': 'carol.jpg',\n",
       "   'skills': ['Python', 'Pandas']},\n",
       "  'isActive': True},\n",
       " {'_id': ObjectId('684dc494143cebd37347ea0a'),\n",
       "  'userId': 'u5',\n",
       "  'email': 'eve.student@example.com',\n",
       "  'firstName': 'Eve',\n",
       "  'lastName': 'Davis',\n",
       "  'role': 'student',\n",
       "  'dateJoined': datetime.datetime(2024, 3, 5, 13, 0),\n",
       "  'profile': {'bio': 'Frontend enthusiast.',\n",
       "   'avatar': 'eve.jpg',\n",
       "   'skills': ['CSS', 'React']},\n",
       "  'isActive': True},\n",
       " {'_id': ObjectId('684dc494143cebd37347ea0c'),\n",
       "  'userId': 'u7',\n",
       "  'email': 'grace.student@example.com',\n",
       "  'firstName': 'Grace',\n",
       "  'lastName': 'Wilson',\n",
       "  'role': 'student',\n",
       "  'dateJoined': datetime.datetime(2024, 4, 12, 15, 0),\n",
       "  'profile': {'bio': 'Learning cloud computing.',\n",
       "   'avatar': 'grace.jpg',\n",
       "   'skills': ['AWS', 'Azure']},\n",
       "  'isActive': True},\n",
       " {'_id': ObjectId('684dc494143cebd37347ea0e'),\n",
       "  'userId': 'u9',\n",
       "  'email': 'ivy.student@example.com',\n",
       "  'firstName': 'Ivy',\n",
       "  'lastName': 'Taylor',\n",
       "  'role': 'student',\n",
       "  'dateJoined': datetime.datetime(2024, 5, 20, 17, 0),\n",
       "  'profile': {'bio': 'Interested in mobile apps.',\n",
       "   'avatar': 'ivy.jpg',\n",
       "   'skills': ['Flutter', 'Dart']},\n",
       "  'isActive': True},\n",
       " {'_id': ObjectId('684dc494143cebd37347ea10'),\n",
       "  'userId': 'u11',\n",
       "  'email': 'kate.student@example.com',\n",
       "  'firstName': 'Kate',\n",
       "  'lastName': 'Thomas',\n",
       "  'role': 'student',\n",
       "  'dateJoined': datetime.datetime(2024, 6, 1, 19, 0),\n",
       "  'profile': {'bio': 'Learning programming.',\n",
       "   'avatar': 'kate.jpg',\n",
       "   'skills': ['C++', 'Python']},\n",
       "  'isActive': True},\n",
       " {'_id': ObjectId('684dc494143cebd37347ea12'),\n",
       "  'userId': 'u13',\n",
       "  'email': 'mia.student@example.com',\n",
       "  'firstName': 'Mia',\n",
       "  'lastName': 'White',\n",
       "  'role': 'student',\n",
       "  'dateJoined': datetime.datetime(2024, 6, 5, 21, 0),\n",
       "  'cour': {'bio': 'Interested in AI.',\n",
       "   'avatar': 'mia.jpg',\n",
       "   'skills': ['Python', 'ML']},\n",
       "  'isActive': True},\n",
       " {'_id': ObjectId('684dc494143cebd37347ea14'),\n",
       "  'userId': 'u15',\n",
       "  'email': 'oliver.student@example.com',\n",
       "  'firstName': 'Oliver',\n",
       "  'lastName': 'Martin',\n",
       "  'role': 'student',\n",
       "  'dateJoined': datetime.datetime(2024, 6, 10, 23, 0),\n",
       "  'profile': {'bio': 'Learning backend.',\n",
       "   'avatar': 'oliver.jpg',\n",
       "   'skills': ['Node.js', 'Express']},\n",
       "  'isActive': True},\n",
       " {'_id': ObjectId('684dc494143cebd37347ea16'),\n",
       "  'userId': 'u17',\n",
       "  'email': 'quinn.student@example.com',\n",
       "  'firstName': 'Quinn',\n",
       "  'lastName': 'Lewis',\n",
       "  'role': 'student',\n",
       "  'dateJoined': datetime.datetime(2024, 6, 11, 9, 0),\n",
       "  'profile': {'bio': 'Interested in DevOps.',\n",
       "   'avatar': 'quinn.jpg',\n",
       "   'skills': ['Docker', 'CI/CD']},\n",
       "  'isActive': True},\n",
       " {'_id': ObjectId('684dc494143cebd37347ea18'),\n",
       "  'userId': 'u19',\n",
       "  'email': 'sam.student@example.com',\n",
       "  'firstName': 'Sam',\n",
       "  'lastName': 'Hall',\n",
       "  'role': 'student',\n",
       "  'dateJoined': datetime.datetime(2024, 6, 12, 11, 0),\n",
       "  'profile': {'bio': 'Learning databases.',\n",
       "   'avatar': 'sam.jpg',\n",
       "   'skills': ['SQL', 'MongoDB']},\n",
       "  'isActive': True}]"
      ]
     },
     "execution_count": 8,
     "metadata": {},
     "output_type": "execute_result"
    }
   ],
   "source": [
    "# Find all active students\n",
    "edhub.get_active_students()"
   ]
  },
  {
   "cell_type": "code",
   "execution_count": 9,
   "id": "6696a01a",
   "metadata": {},
   "outputs": [
    {
     "data": {
      "text/plain": [
       "[{'_id': ObjectId('684dc494143cebd37347ea1a'),\n",
       "  'courseId': 'c1',\n",
       "  'title': 'Introduction to JavaScript',\n",
       "  'description': 'Learn the basics of JavaScript.',\n",
       "  'instructorId': 'u2',\n",
       "  'category': 'Programming',\n",
       "  'level': 'beginner',\n",
       "  'duration': 10,\n",
       "  'price': 0,\n",
       "  'tags': ['JavaScript', 'Web'],\n",
       "  'createdAt': datetime.datetime(2024, 1, 1, 9, 0),\n",
       "  'updatedAt': datetime.datetime(2024, 1, 10, 9, 0),\n",
       "  'isPublished': False,\n",
       "  'rating': 3,\n",
       "  'instructor': {'_id': ObjectId('684dc494143cebd37347ea07'),\n",
       "   'userId': 'u2',\n",
       "   'email': 'bob.instructor@example.com',\n",
       "   'firstName': 'Bob',\n",
       "   'lastName': 'Smith',\n",
       "   'role': 'instructor',\n",
       "   'dateJoined': datetime.datetime(2025, 2, 15, 10, 0),\n",
       "   'profile': {'bio': 'Full-stack instructor.',\n",
       "    'avatar': 'bob.jpg',\n",
       "    'skills': ['Node.js', 'MongoDB']},\n",
       "   'isActive': True}},\n",
       " {'_id': ObjectId('684dc494143cebd37347ea1b'),\n",
       "  'courseId': 'c2',\n",
       "  'title': 'Advanced Python',\n",
       "  'description': 'Deep dive into Python.',\n",
       "  'instructorId': 'u8',\n",
       "  'category': 'Programming',\n",
       "  'level': 'advanced',\n",
       "  'duration': 20,\n",
       "  'price': 50,\n",
       "  'tags': ['Python', 'Advanced', 'Web'],\n",
       "  'createdAt': datetime.datetime(2024, 2, 1, 9, 0),\n",
       "  'updatedAt': datetime.datetime(2024, 2, 10, 9, 0),\n",
       "  'isPublished': True,\n",
       "  'rating': 4,\n",
       "  'instructor': {'_id': ObjectId('684dc494143cebd37347ea0d'),\n",
       "   'userId': 'u8',\n",
       "   'email': 'henry.instructor@example.com',\n",
       "   'firstName': 'Henry',\n",
       "   'lastName': 'Moore',\n",
       "   'role': 'instructor',\n",
       "   'dateJoined': datetime.datetime(2023, 9, 18, 16, 0),\n",
       "   'profile': {'bio': 'AI/ML instructor.',\n",
       "    'avatar': 'henry.jpg',\n",
       "    'skills': ['TensorFlow', 'PyTorch']},\n",
       "   'isActive': True}},\n",
       " {'_id': ObjectId('684dc494143cebd37347ea1c'),\n",
       "  'courseId': 'c3',\n",
       "  'title': 'Web Design Fundamentals',\n",
       "  'description': 'Basics of web design.',\n",
       "  'instructorId': 'u14',\n",
       "  'category': 'Design',\n",
       "  'level': 'beginner',\n",
       "  'duration': 8,\n",
       "  'price': 20,\n",
       "  'tags': ['Design', 'UI/UX'],\n",
       "  'createdAt': datetime.datetime(2024, 3, 1, 9, 0),\n",
       "  'updatedAt': datetime.datetime(2024, 3, 10, 9, 0),\n",
       "  'isPublished': True,\n",
       "  'rating': 4,\n",
       "  'instructor': {'_id': ObjectId('684dc494143cebd37347ea13'),\n",
       "   'userId': 'u14',\n",
       "   'email': 'nina.instructor@example.com',\n",
       "   'firstName': 'Nina',\n",
       "   'lastName': 'Harris',\n",
       "   'role': 'instructor',\n",
       "   'dateJoined': datetime.datetime(2023, 6, 15, 22, 0),\n",
       "   'profile': {'bio': 'UI/UX designer.',\n",
       "    'avatar': 'nina.jpg',\n",
       "    'skills': ['Figma', 'Sketch']},\n",
       "   'isActive': True}},\n",
       " {'_id': ObjectId('684dc494143cebd37347ea1d'),\n",
       "  'courseId': 'c4',\n",
       "  'title': 'Database Management',\n",
       "  'description': 'Learn about databases.',\n",
       "  'instructorId': 'u10',\n",
       "  'category': 'Database',\n",
       "  'level': 'intermediate',\n",
       "  'duration': 12,\n",
       "  'price': 30,\n",
       "  'tags': ['Database', 'SQL', 'MongoDB', 'Web'],\n",
       "  'createdAt': datetime.datetime(2024, 4, 1, 9, 0),\n",
       "  'updatedAt': datetime.datetime(2024, 4, 10, 9, 0),\n",
       "  'isPublished': True,\n",
       "  'rating': 5,\n",
       "  'instructor': {'_id': ObjectId('684dc494143cebd37347ea0f'),\n",
       "   'userId': 'u10',\n",
       "   'email': 'jack.instructor@example.com',\n",
       "   'firstName': 'Jack',\n",
       "   'lastName': 'Anderson',\n",
       "   'role': 'instructor',\n",
       "   'dateJoined': datetime.datetime(2023, 8, 22, 18, 0),\n",
       "   'profile': {'bio': 'Database expert.',\n",
       "    'avatar': 'jack.jpg',\n",
       "    'skills': ['MongoDB', 'SQL']},\n",
       "   'isActive': True}},\n",
       " {'_id': ObjectId('684dc494143cebd37347ea1e'),\n",
       "  'courseId': 'c5',\n",
       "  'title': 'Cloud Computing Basics',\n",
       "  'description': 'Introduction to cloud platforms.',\n",
       "  'instructorId': 'u16',\n",
       "  'category': 'Cloud',\n",
       "  'level': 'beginner',\n",
       "  'duration': 15,\n",
       "  'price': 40,\n",
       "  'tags': ['Cloud', 'AWS', 'GCP'],\n",
       "  'createdAt': datetime.datetime(2024, 5, 1, 9, 0),\n",
       "  'updatedAt': datetime.datetime(2024, 5, 10, 9, 0),\n",
       "  'isPublished': True,\n",
       "  'rating': 2,\n",
       "  'instructor': {'_id': ObjectId('684dc494143cebd37347ea15'),\n",
       "   'userId': 'u16',\n",
       "   'email': 'paul.instructor@example.com',\n",
       "   'firstName': 'Paul',\n",
       "   'lastName': 'Clark',\n",
       "   'role': 'instructor',\n",
       "   'dateJoined': datetime.datetime(2023, 5, 12, 8, 0),\n",
       "   'profile': {'bio': 'Cloud architect.',\n",
       "    'avatar': 'paul.jpg',\n",
       "    'skills': ['AWS', 'GCP']},\n",
       "   'isActive': True}},\n",
       " {'_id': ObjectId('684dc494143cebd37347ea1f'),\n",
       "  'courseId': 'c6',\n",
       "  'title': 'Mobile App Development',\n",
       "  'description': 'Build mobile apps.',\n",
       "  'instructorId': 'u18',\n",
       "  'category': 'Mobile',\n",
       "  'level': 'intermediate',\n",
       "  'duration': 18,\n",
       "  'price': 60,\n",
       "  'tags': ['Mobile', 'Flutter'],\n",
       "  'createdAt': datetime.datetime(2024, 6, 1, 9, 0),\n",
       "  'updatedAt': datetime.datetime(2024, 6, 10, 9, 0),\n",
       "  'isPublished': True,\n",
       "  'rating': 4,\n",
       "  'instructor': {'_id': ObjectId('684dc494143cebd37347ea17'),\n",
       "   'userId': 'u18',\n",
       "   'email': 'rachel.instructor@example.com',\n",
       "   'firstName': 'Rachel',\n",
       "   'lastName': 'Walker',\n",
       "   'role': 'instructor',\n",
       "   'dateJoined': datetime.datetime(2023, 4, 10, 10, 0),\n",
       "   'profile': {'bio': 'Mobile app developer.',\n",
       "    'avatar': 'rachel.jpg',\n",
       "    'skills': ['Flutter', 'Swift']},\n",
       "   'isActive': True}},\n",
       " {'_id': ObjectId('684dc494143cebd37347ea20'),\n",
       "  'courseId': 'c7',\n",
       "  'title': 'DevOps Essentials',\n",
       "  'description': 'Learn DevOps tools.',\n",
       "  'instructorId': 'u6',\n",
       "  'category': 'DevOps',\n",
       "  'level': 'intermediate',\n",
       "  'duration': 14,\n",
       "  'price': 35,\n",
       "  'tags': ['DevOps', 'Docker'],\n",
       "  'createdAt': datetime.datetime(2024, 7, 1, 9, 0),\n",
       "  'updatedAt': datetime.datetime(2024, 7, 10, 9, 0),\n",
       "  'isPublished': True,\n",
       "  'rating': 4,\n",
       "  'instructor': {'_id': ObjectId('684dc494143cebd37347ea0b'),\n",
       "   'userId': 'u6',\n",
       "   'email': 'frank.instructor@example.com',\n",
       "   'firstName': 'Frank',\n",
       "   'lastName': 'Miller',\n",
       "   'role': 'instructor',\n",
       "   'dateJoined': datetime.datetime(2023, 10, 10, 14, 0),\n",
       "   'profile': {'bio': 'DevOps engineer.',\n",
       "    'avatar': 'frank.jpg',\n",
       "    'skills': ['Docker', 'Kubernetes']},\n",
       "   'isActive': True}},\n",
       " {'_id': ObjectId('684dc494143cebd37347ea21'),\n",
       "  'courseId': 'c8',\n",
       "  'title': 'Cybersecurity Fundamentals',\n",
       "  'description': 'Basics of cybersecurity.',\n",
       "  'instructorId': 'u12',\n",
       "  'category': 'Security',\n",
       "  'level': 'beginner',\n",
       "  'duration': 9,\n",
       "  'price': 25,\n",
       "  'tags': ['Security', 'Linux'],\n",
       "  'createdAt': datetime.datetime(2024, 8, 1, 9, 0),\n",
       "  'updatedAt': datetime.datetime(2024, 8, 10, 9, 0),\n",
       "  'isPublished': True,\n",
       "  'rating': 5,\n",
       "  'instructor': {'_id': ObjectId('684dc494143cebd37347ea11'),\n",
       "   'userId': 'u12',\n",
       "   'email': 'leo.instructor@example.com',\n",
       "   'firstName': 'Leo',\n",
       "   'lastName': 'Jackson',\n",
       "   'role': 'instructor',\n",
       "   'dateJoined': datetime.datetime(2023, 7, 30, 20, 0),\n",
       "   'profile': {'bio': 'Cybersecurity instructor.',\n",
       "    'avatar': 'leo.jpg',\n",
       "    'skills': ['Security', 'Linux']},\n",
       "   'isActive': True}},\n",
       " {'_id': ObjectId('684dc494143cebd37347ea57'),\n",
       "  'courseId': 'c100',\n",
       "  'title': 'Message stage past history list Democrat town.',\n",
       "  'description': 'Space apply bring process nor. Year general executive policy cold. Wrong fly brother maintain account.',\n",
       "  'instructorId': 'u2',\n",
       "  'category': 'ETL',\n",
       "  'level': 'advanced',\n",
       "  'duration': 87,\n",
       "  'price': 8764,\n",
       "  'tags': ['APIs', 'Machine Learning'],\n",
       "  'createdAt': datetime.datetime(2022, 7, 29, 9, 42, 18, 763000),\n",
       "  'updatedAt': datetime.datetime(2025, 4, 26, 22, 46, 14, 511000),\n",
       "  'isPublished': False,\n",
       "  'instructor': {'_id': ObjectId('684dc494143cebd37347ea07'),\n",
       "   'userId': 'u2',\n",
       "   'email': 'bob.instructor@example.com',\n",
       "   'firstName': 'Bob',\n",
       "   'lastName': 'Smith',\n",
       "   'role': 'instructor',\n",
       "   'dateJoined': datetime.datetime(2025, 2, 15, 10, 0),\n",
       "   'profile': {'bio': 'Full-stack instructor.',\n",
       "    'avatar': 'bob.jpg',\n",
       "    'skills': ['Node.js', 'MongoDB']},\n",
       "   'isActive': True}}]"
      ]
     },
     "execution_count": 9,
     "metadata": {},
     "output_type": "execute_result"
    }
   ],
   "source": [
    "# Retrieve course details with instructor information\n",
    "edhub.get_course_details()"
   ]
  },
  {
   "cell_type": "code",
   "execution_count": 10,
   "id": "678304f2",
   "metadata": {},
   "outputs": [
    {
     "data": {
      "text/plain": [
       "[{'_id': ObjectId('684dc494143cebd37347ea1a'),\n",
       "  'courseId': 'c1',\n",
       "  'title': 'Introduction to JavaScript',\n",
       "  'description': 'Learn the basics of JavaScript.',\n",
       "  'instructorId': 'u2',\n",
       "  'category': 'Programming',\n",
       "  'level': 'beginner',\n",
       "  'duration': 10,\n",
       "  'price': 0,\n",
       "  'tags': ['JavaScript', 'Web'],\n",
       "  'createdAt': datetime.datetime(2024, 1, 1, 9, 0),\n",
       "  'updatedAt': datetime.datetime(2024, 1, 10, 9, 0),\n",
       "  'isPublished': False,\n",
       "  'rating': 3},\n",
       " {'_id': ObjectId('684dc494143cebd37347ea1b'),\n",
       "  'courseId': 'c2',\n",
       "  'title': 'Advanced Python',\n",
       "  'description': 'Deep dive into Python.',\n",
       "  'instructorId': 'u8',\n",
       "  'category': 'Programming',\n",
       "  'level': 'advanced',\n",
       "  'duration': 20,\n",
       "  'price': 50,\n",
       "  'tags': ['Python', 'Advanced', 'Web'],\n",
       "  'createdAt': datetime.datetime(2024, 2, 1, 9, 0),\n",
       "  'updatedAt': datetime.datetime(2024, 2, 10, 9, 0),\n",
       "  'isPublished': True,\n",
       "  'rating': 4}]"
      ]
     },
     "execution_count": 10,
     "metadata": {},
     "output_type": "execute_result"
    }
   ],
   "source": [
    "# Get all courses in a specific category\n",
    "edhub.get_courses_by_category(\"Programming\")"
   ]
  },
  {
   "cell_type": "code",
   "execution_count": 11,
   "id": "dc57e395",
   "metadata": {},
   "outputs": [
    {
     "data": {
      "text/plain": [
       "[{'_id': ObjectId('684dc494143cebd37347ea06'),\n",
       "  'userId': 'u1',\n",
       "  'email': 'alice.student@example.com',\n",
       "  'firstName': 'Alice',\n",
       "  'lastName': 'Johnson',\n",
       "  'role': 'student',\n",
       "  'dateJoined': datetime.datetime(2025, 4, 10, 9, 0),\n",
       "  'profile': {'bio': 'Aspiring developer.',\n",
       "   'avatar': 'alice.jpg',\n",
       "   'skills': ['JavaScript', 'HTML']},\n",
       "  'isActive': True},\n",
       " {'_id': ObjectId('684dc494143cebd37347ea16'),\n",
       "  'userId': 'u17',\n",
       "  'email': 'quinn.student@example.com',\n",
       "  'firstName': 'Quinn',\n",
       "  'lastName': 'Lewis',\n",
       "  'role': 'student',\n",
       "  'dateJoined': datetime.datetime(2024, 6, 11, 9, 0),\n",
       "  'profile': {'bio': 'Interested in DevOps.',\n",
       "   'avatar': 'quinn.jpg',\n",
       "   'skills': ['Docker', 'CI/CD']},\n",
       "  'isActive': True}]"
      ]
     },
     "execution_count": 11,
     "metadata": {},
     "output_type": "execute_result"
    }
   ],
   "source": [
    "# Find students enrolled in a particular course\n",
    "course_id = \"c1\"\n",
    "edhub.get_student_enrolled_to_course(course_id=course_id)"
   ]
  },
  {
   "cell_type": "code",
   "execution_count": 12,
   "id": "f1efb03c",
   "metadata": {},
   "outputs": [
    {
     "data": {
      "text/plain": [
       "[{'_id': ObjectId('684dc494143cebd37347ea1b'),\n",
       "  'courseId': 'c2',\n",
       "  'title': 'Advanced Python',\n",
       "  'description': 'Deep dive into Python.',\n",
       "  'instructorId': 'u8',\n",
       "  'category': 'Programming',\n",
       "  'level': 'advanced',\n",
       "  'duration': 20,\n",
       "  'price': 50,\n",
       "  'tags': ['Python', 'Advanced', 'Web'],\n",
       "  'createdAt': datetime.datetime(2024, 2, 1, 9, 0),\n",
       "  'updatedAt': datetime.datetime(2024, 2, 10, 9, 0),\n",
       "  'isPublished': True,\n",
       "  'rating': 4}]"
      ]
     },
     "execution_count": 12,
     "metadata": {},
     "output_type": "execute_result"
    }
   ],
   "source": [
    "# Search courses by title (case-insensitive, partial match)\n",
    "partial_title = \"py\"\n",
    "\n",
    "edhub.search_courses_by_title(partial_title)"
   ]
  },
  {
   "cell_type": "markdown",
   "id": "88bfb57f",
   "metadata": {},
   "source": [
    "### Update Operations"
   ]
  },
  {
   "cell_type": "code",
   "execution_count": 13,
   "id": "6c4d1b7b",
   "metadata": {},
   "outputs": [
    {
     "name": "stdout",
     "output_type": "stream",
     "text": [
      "Original:  {'bio': 'Aspiring developer.', 'avatar': 'alice.jpg', 'skills': ['JavaScript', 'HTML']}\n",
      "Updated:  {'bio': 'Software engineer', 'avatar': 'alice.png', 'skills': ['Ruby', 'Go']}\n"
     ]
    }
   ],
   "source": [
    "# Update a user’s profile information\n",
    "user_id = \"u1\"\n",
    "\n",
    "user = edhub.users_col.find_one({\"userId\": user_id})\n",
    "\n",
    "print(\"Original: \", user[\"profile\"])\n",
    "\n",
    "profile = {\n",
    "    \"bio\": \"Software engineer\",\n",
    "    \"avatar\": \"alice.png\",\n",
    "    \"skills\": [\"Ruby\", \"Go\"]\n",
    "}\n",
    "\n",
    "edhub.modify_profile(user_id=user_id, updates=profile)\n",
    "\n",
    "user = edhub.users_col.find_one({\"userId\": user_id})\n",
    "\n",
    "print(\"Updated: \", user[\"profile\"])"
   ]
  },
  {
   "cell_type": "code",
   "execution_count": 14,
   "id": "2901f420",
   "metadata": {},
   "outputs": [
    {
     "name": "stdout",
     "output_type": "stream",
     "text": [
      "Original:  False\n",
      "Updated:  True\n"
     ]
    }
   ],
   "source": [
    "# Mark a course as published\n",
    "course_id = \"c1\"\n",
    "\n",
    "course = edhub.courses_col.find_one({\"courseId\": course_id})\n",
    "print(\"Original: \", course[\"isPublished\"])\n",
    "\n",
    "edhub.publish_course(course_id=course_id)\n",
    "course = edhub.courses_col.find_one({\"courseId\": course_id})\n",
    "print(\"Updated: \", course[\"isPublished\"])\n"
   ]
  },
  {
   "cell_type": "code",
   "execution_count": 15,
   "id": "1d1cd002",
   "metadata": {},
   "outputs": [
    {
     "name": "stdout",
     "output_type": "stream",
     "text": [
      "Original:  95\n",
      "Updated:  40\n"
     ]
    }
   ],
   "source": [
    "# Update assignment grade\n",
    "\n",
    "submission_id = \"s1\"\n",
    "grade = 40\n",
    "feedback = \"Good work\"\n",
    "\n",
    "submission = edhub.submissions_col.find_one({\"submissionId\": submission_id})\n",
    "print(\"Original: \", submission[\"grade\"])\n",
    "\n",
    "edhub.update_assignment_grade(submission_id=submission_id, grade=grade, feedback=feedback)\n",
    "\n",
    "submission = edhub.submissions_col.find_one({\"submissionId\": submission_id})\n",
    "print(\"Updated: \", submission[\"grade\"])"
   ]
  },
  {
   "cell_type": "code",
   "execution_count": 16,
   "id": "9b12d0fb",
   "metadata": {},
   "outputs": [
    {
     "name": "stdout",
     "output_type": "stream",
     "text": [
      "Original:  ['JavaScript', 'Web']\n",
      "Updated:  ['JavaScript', 'Web', 'Nodejs']\n"
     ]
    }
   ],
   "source": [
    "# Add tags to an existing course\n",
    "course_id = \"c1\"\n",
    "\n",
    "course = edhub.courses_col.find_one({\"courseId\": course_id})\n",
    "print(\"Original: \", course[\"tags\"])\n",
    "\n",
    "edhub.add_tags_to_course(course_id=course_id, tags=[\"Nodejs\"])\n",
    "\n",
    "course = edhub.courses_col.find_one({\"courseId\": course_id})\n",
    "print(\"Updated: \", course[\"tags\"])\n"
   ]
  },
  {
   "cell_type": "markdown",
   "id": "14803f57",
   "metadata": {},
   "source": [
    "### Delete Operations"
   ]
  },
  {
   "cell_type": "code",
   "execution_count": 17,
   "id": "f68fa4f2",
   "metadata": {},
   "outputs": [
    {
     "name": "stdout",
     "output_type": "stream",
     "text": [
      "Original:  True\n",
      "Updated:  False\n"
     ]
    }
   ],
   "source": [
    "# Remove a user (soft delete by setting isActive to false)\n",
    "user_id = \"u1\"\n",
    "\n",
    "user = edhub.users_col.find_one({\"userId\": user_id})\n",
    "print(\"Original: \", user[\"isActive\"])\n",
    "\n",
    "edhub.deactivate_user(user_id=user_id)\n",
    "\n",
    "user = edhub.users_col.find_one({\"userId\": user_id})\n",
    "print(\"Updated: \", user[\"isActive\"])\n"
   ]
  },
  {
   "cell_type": "code",
   "execution_count": 18,
   "id": "6b17e436",
   "metadata": {},
   "outputs": [
    {
     "name": "stdout",
     "output_type": "stream",
     "text": [
      "Original:  {'_id': ObjectId('684dc494143cebd37347ea30'), 'enrollmentId': 'e15', 'studentId': 'u9', 'courseId': 'c7', 'enrollmentDate': datetime.datetime(2024, 6, 18, 9, 0), 'progress': 1.0, 'completed': True, 'certificateIssued': True}\n",
      "Updated:  None\n"
     ]
    }
   ],
   "source": [
    "# Delete an enrollment\n",
    "\n",
    "enrollment_id = \"e15\"\n",
    "\n",
    "enrollment = edhub.enrollments_col.find_one({\"enrollmentId\": enrollment_id})\n",
    "print(\"Original: \", enrollment)\n",
    "\n",
    "edhub.delete_enrollment(enrollment_id=enrollment_id)\n",
    "\n",
    "enrollment = edhub.enrollments_col.find_one({\"enrollmentId\": enrollment_id})\n",
    "print(\"Updated: \", enrollment)"
   ]
  },
  {
   "cell_type": "code",
   "execution_count": 19,
   "id": "d35409a7",
   "metadata": {},
   "outputs": [
    {
     "name": "stdout",
     "output_type": "stream",
     "text": [
      "Original:  {'_id': ObjectId('684dc494143cebd37347ea31'), 'lessonId': 'l1', 'courseId': 'c1', 'title': 'JS Introduction', 'content': 'Welcome to JavaScript.', 'order': 1, 'resources': ['intro.pdf'], 'duration': 30, 'createdAt': datetime.datetime(2024, 1, 1, 9, 0), 'updatedAt': datetime.datetime(2024, 1, 2, 9, 0)}\n",
      "Updated:  {'_id': ObjectId('684dc494143cebd37347ea31'), 'lessonId': 'l1', 'courseId': '', 'title': 'JS Introduction', 'content': 'Welcome to JavaScript.', 'order': 1, 'resources': ['intro.pdf'], 'duration': 30, 'createdAt': datetime.datetime(2024, 1, 1, 9, 0), 'updatedAt': datetime.datetime(2024, 1, 2, 9, 0)}\n"
     ]
    }
   ],
   "source": [
    "# Remove a lesson from a course\n",
    "lesson_id = \"l1\"\n",
    "course_id = \"c1\"\n",
    "\n",
    "lesson = edhub.lessons_col.find_one({\"lessonId\": lesson_id})\n",
    "print(\"Original: \", lesson)\n",
    "\n",
    "edhub.remove_lesson_from_course(lesson_id=lesson_id, course_id=course_id)\n",
    "\n",
    "lesson = edhub.lessons_col.find_one({\"lessonId\": lesson_id})\n",
    "print(\"Updated: \", lesson)\n"
   ]
  },
  {
   "cell_type": "markdown",
   "id": "7278d1e0",
   "metadata": {},
   "source": [
    "## Part 4: Advanced Queries and Aggregation (25 points)\n",
    "\n",
    "### Complex Queries"
   ]
  },
  {
   "cell_type": "code",
   "execution_count": 20,
   "id": "45bb345d",
   "metadata": {},
   "outputs": [
    {
     "data": {
      "text/plain": [
       "[{'_id': ObjectId('684dc494143cebd37347ea1b'),\n",
       "  'courseId': 'c2',\n",
       "  'title': 'Advanced Python',\n",
       "  'description': 'Deep dive into Python.',\n",
       "  'instructorId': 'u8',\n",
       "  'category': 'Programming',\n",
       "  'level': 'advanced',\n",
       "  'duration': 20,\n",
       "  'price': 50,\n",
       "  'tags': ['Python', 'Advanced', 'Web'],\n",
       "  'createdAt': datetime.datetime(2024, 2, 1, 9, 0),\n",
       "  'updatedAt': datetime.datetime(2024, 2, 10, 9, 0),\n",
       "  'isPublished': True,\n",
       "  'rating': 4},\n",
       " {'_id': ObjectId('684dc494143cebd37347ea1f'),\n",
       "  'courseId': 'c6',\n",
       "  'title': 'Mobile App Development',\n",
       "  'description': 'Build mobile apps.',\n",
       "  'instructorId': 'u18',\n",
       "  'category': 'Mobile',\n",
       "  'level': 'intermediate',\n",
       "  'duration': 18,\n",
       "  'price': 60,\n",
       "  'tags': ['Mobile', 'Flutter'],\n",
       "  'createdAt': datetime.datetime(2024, 6, 1, 9, 0),\n",
       "  'updatedAt': datetime.datetime(2024, 6, 10, 9, 0),\n",
       "  'isPublished': True,\n",
       "  'rating': 4}]"
      ]
     },
     "execution_count": 20,
     "metadata": {},
     "output_type": "execute_result"
    }
   ],
   "source": [
    "# Find courses with price between $50 and $200\n",
    "min_price = 50\n",
    "max_price = 200\n",
    "\n",
    "edhub.courses_by_price(min_price, max_price)"
   ]
  },
  {
   "cell_type": "code",
   "execution_count": 21,
   "id": "3319cd98",
   "metadata": {},
   "outputs": [
    {
     "data": {
      "text/plain": [
       "[{'_id': ObjectId('684dc494143cebd37347ea06'),\n",
       "  'userId': 'u1',\n",
       "  'email': 'alice.student@example.com',\n",
       "  'firstName': 'Alice',\n",
       "  'lastName': 'Johnson',\n",
       "  'role': 'student',\n",
       "  'dateJoined': datetime.datetime(2025, 4, 10, 9, 0),\n",
       "  'profile': {'bio': 'Software engineer',\n",
       "   'avatar': 'alice.png',\n",
       "   'skills': ['Ruby', 'Go']},\n",
       "  'isActive': False},\n",
       " {'_id': ObjectId('684dc494143cebd37347ea07'),\n",
       "  'userId': 'u2',\n",
       "  'email': 'bob.instructor@example.com',\n",
       "  'firstName': 'Bob',\n",
       "  'lastName': 'Smith',\n",
       "  'role': 'instructor',\n",
       "  'dateJoined': datetime.datetime(2025, 2, 15, 10, 0),\n",
       "  'profile': {'bio': 'Full-stack instructor.',\n",
       "   'avatar': 'bob.jpg',\n",
       "   'skills': ['Node.js', 'MongoDB']},\n",
       "  'isActive': True}]"
      ]
     },
     "execution_count": 21,
     "metadata": {},
     "output_type": "execute_result"
    }
   ],
   "source": [
    "# Get users who joined in the last 6 months\n",
    "edhub.recent_signups(months=6)"
   ]
  },
  {
   "cell_type": "code",
   "execution_count": 22,
   "id": "96db0f61",
   "metadata": {},
   "outputs": [
    {
     "data": {
      "text/plain": [
       "[{'_id': ObjectId('684dc494143cebd37347ea1a'),\n",
       "  'courseId': 'c1',\n",
       "  'title': 'Introduction to JavaScript',\n",
       "  'description': 'Learn the basics of JavaScript.',\n",
       "  'instructorId': 'u2',\n",
       "  'category': 'Programming',\n",
       "  'level': 'beginner',\n",
       "  'duration': 10,\n",
       "  'price': 0,\n",
       "  'tags': ['JavaScript', 'Web', 'Nodejs'],\n",
       "  'createdAt': datetime.datetime(2024, 1, 1, 9, 0),\n",
       "  'updatedAt': datetime.datetime(2024, 1, 10, 9, 0),\n",
       "  'isPublished': True,\n",
       "  'rating': 3},\n",
       " {'_id': ObjectId('684dc494143cebd37347ea1b'),\n",
       "  'courseId': 'c2',\n",
       "  'title': 'Advanced Python',\n",
       "  'description': 'Deep dive into Python.',\n",
       "  'instructorId': 'u8',\n",
       "  'category': 'Programming',\n",
       "  'level': 'advanced',\n",
       "  'duration': 20,\n",
       "  'price': 50,\n",
       "  'tags': ['Python', 'Advanced', 'Web'],\n",
       "  'createdAt': datetime.datetime(2024, 2, 1, 9, 0),\n",
       "  'updatedAt': datetime.datetime(2024, 2, 10, 9, 0),\n",
       "  'isPublished': True,\n",
       "  'rating': 4},\n",
       " {'_id': ObjectId('684dc494143cebd37347ea1d'),\n",
       "  'courseId': 'c4',\n",
       "  'title': 'Database Management',\n",
       "  'description': 'Learn about databases.',\n",
       "  'instructorId': 'u10',\n",
       "  'category': 'Database',\n",
       "  'level': 'intermediate',\n",
       "  'duration': 12,\n",
       "  'price': 30,\n",
       "  'tags': ['Database', 'SQL', 'MongoDB', 'Web'],\n",
       "  'createdAt': datetime.datetime(2024, 4, 1, 9, 0),\n",
       "  'updatedAt': datetime.datetime(2024, 4, 10, 9, 0),\n",
       "  'isPublished': True,\n",
       "  'rating': 5}]"
      ]
     },
     "execution_count": 22,
     "metadata": {},
     "output_type": "execute_result"
    }
   ],
   "source": [
    "# Find courses that have specific tags using $in operator\n",
    "\n",
    "keywords = [\"Web\", \"Python\"]\n",
    "edhub.courses_with_keyword(keywords)"
   ]
  },
  {
   "cell_type": "code",
   "execution_count": 23,
   "id": "fa8d8206",
   "metadata": {},
   "outputs": [
    {
     "data": {
      "text/plain": [
       "[{'_id': ObjectId('684dc494143cebd37347ea40'),\n",
       "  'assignmentId': 'a1',\n",
       "  'courseId': 'c1',\n",
       "  'lessonId': 'l1',\n",
       "  'title': 'JS Quiz 1',\n",
       "  'instructions': 'Complete the quiz.',\n",
       "  'dueDate': datetime.datetime(2025, 6, 17, 18, 51, 0, 629000),\n",
       "  'maxScore': 100,\n",
       "  'createdAt': datetime.datetime(2024, 1, 1, 9, 0),\n",
       "  'updatedAt': datetime.datetime(2024, 1, 2, 9, 0)}]"
      ]
     },
     "execution_count": 23,
     "metadata": {},
     "output_type": "execute_result"
    }
   ],
   "source": [
    "# Retrieve assignments with due dates in the next week\n",
    "assignment_id = \"a1\"\n",
    "\n",
    "# update assignment_id \"a1\" due date to three days from now\n",
    "new_due_date = datetime.now(timezone.utc) + timedelta(days=3)\n",
    "edhub.assignments_col.update_one(\n",
    "    {\"assignmentId\": assignment_id},\n",
    "    {\"$set\": {\"dueDate\": new_due_date}}\n",
    ")\n",
    "\n",
    "# get assignments due in the next week\n",
    "edhub.upcoming_assignment_due_date(upcoming_week=1)"
   ]
  },
  {
   "cell_type": "markdown",
   "id": "62c53bff",
   "metadata": {},
   "source": [
    "#### Course Enrollment Statistics:"
   ]
  },
  {
   "cell_type": "code",
   "execution_count": 24,
   "id": "1c39c8f2",
   "metadata": {},
   "outputs": [
    {
     "data": {
      "text/plain": [
       "[{'totalEnrollments': 2,\n",
       "  'courseId': 'c1',\n",
       "  'courseTitle': 'Introduction to JavaScript'},\n",
       " {'totalEnrollments': 2,\n",
       "  'courseId': 'c6',\n",
       "  'courseTitle': 'Mobile App Development'},\n",
       " {'totalEnrollments': 2,\n",
       "  'courseId': 'c5',\n",
       "  'courseTitle': 'Cloud Computing Basics'},\n",
       " {'totalEnrollments': 1, 'courseId': 'c7', 'courseTitle': 'DevOps Essentials'},\n",
       " {'totalEnrollments': 1,\n",
       "  'courseId': 'c8',\n",
       "  'courseTitle': 'Cybersecurity Fundamentals'},\n",
       " {'totalEnrollments': 2,\n",
       "  'courseId': 'c4',\n",
       "  'courseTitle': 'Database Management'},\n",
       " {'totalEnrollments': 1,\n",
       "  'courseId': 'c100',\n",
       "  'courseTitle': 'Message stage past history list Democrat town.'},\n",
       " {'totalEnrollments': 2,\n",
       "  'courseId': 'c3',\n",
       "  'courseTitle': 'Web Design Fundamentals'},\n",
       " {'totalEnrollments': 2, 'courseId': 'c2', 'courseTitle': 'Advanced Python'}]"
      ]
     },
     "execution_count": 24,
     "metadata": {},
     "output_type": "execute_result"
    }
   ],
   "source": [
    "# Count total enrollments per course\n",
    "edhub.enrollment_metrics()"
   ]
  },
  {
   "cell_type": "code",
   "execution_count": 26,
   "id": "6d116b33",
   "metadata": {},
   "outputs": [
    {
     "data": {
      "text/plain": [
       "{'averageRating': 3.875, 'count': 9}"
      ]
     },
     "execution_count": 26,
     "metadata": {},
     "output_type": "execute_result"
    }
   ],
   "source": [
    "# Calculate average course rating\n",
    "edhub.average_course_rating()"
   ]
  },
  {
   "cell_type": "code",
   "execution_count": 28,
   "id": "83f53d6f",
   "metadata": {},
   "outputs": [
    {
     "data": {
      "text/plain": [
       "[{'courses': ['Mobile App Development'],\n",
       "  'averageRating': 4.0,\n",
       "  'totalCourses': 1,\n",
       "  'category': 'Mobile'},\n",
       " {'courses': ['Cybersecurity Fundamentals'],\n",
       "  'averageRating': 5.0,\n",
       "  'totalCourses': 1,\n",
       "  'category': 'Security'},\n",
       " {'courses': ['Web Design Fundamentals'],\n",
       "  'averageRating': 4.0,\n",
       "  'totalCourses': 1,\n",
       "  'category': 'Design'},\n",
       " {'courses': ['Introduction to JavaScript', 'Advanced Python'],\n",
       "  'averageRating': 3.5,\n",
       "  'totalCourses': 2,\n",
       "  'category': 'Programming'},\n",
       " {'courses': ['DevOps Essentials'],\n",
       "  'averageRating': 4.0,\n",
       "  'totalCourses': 1,\n",
       "  'category': 'DevOps'},\n",
       " {'courses': ['Database Management'],\n",
       "  'averageRating': 5.0,\n",
       "  'totalCourses': 1,\n",
       "  'category': 'Database'},\n",
       " {'courses': ['Cloud Computing Basics'],\n",
       "  'averageRating': 2.0,\n",
       "  'totalCourses': 1,\n",
       "  'category': 'Cloud'},\n",
       " {'courses': ['Message stage past history list Democrat town.'],\n",
       "  'averageRating': None,\n",
       "  'totalCourses': 1,\n",
       "  'category': 'ETL'}]"
      ]
     },
     "execution_count": 28,
     "metadata": {},
     "output_type": "execute_result"
    }
   ],
   "source": [
    "# Group by course category\n",
    "edhub.group_course_by_category()"
   ]
  }
 ],
 "metadata": {
  "kernelspec": {
   "display_name": "venv",
   "language": "python",
   "name": "python3"
  },
  "language_info": {
   "codemirror_mode": {
    "name": "ipython",
    "version": 3
   },
   "file_extension": ".py",
   "mimetype": "text/x-python",
   "name": "python",
   "nbconvert_exporter": "python",
   "pygments_lexer": "ipython3",
   "version": "3.13.3"
  }
 },
 "nbformat": 4,
 "nbformat_minor": 5
}
