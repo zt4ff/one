{
 "cells": [
  {
   "cell_type": "code",
   "execution_count": null,
   "id": "6b84d286",
   "metadata": {},
   "outputs": [],
   "source": [
    "import os\n",
    "import sys\n",
    "from datetime import datetime, timedelta, timezone\n",
    "import pandas as pd\n",
    "\n",
    "module_path = os.path.abspath(os.path.join(\"..\", \"src\"))\n",
    "sys.path.insert(0, str(module_path))\n",
    "from eduhub_queries import EdHubDB\n"
   ]
  },
  {
   "cell_type": "code",
   "execution_count": 2,
   "id": "72ce0dc7",
   "metadata": {},
   "outputs": [
    {
     "name": "stdout",
     "output_type": "stream",
     "text": [
      "Created collection: users\n",
      "Created collection: courses\n",
      "Created collection: lessons\n",
      "Created collection: assignments\n",
      "Created collection: lessons\n",
      "Created collection: assignments\n",
      "Created collection: enrollments\n",
      "Created collection: submissions\n",
      "Created collection: enrollments\n",
      "Created collection: submissions\n"
     ]
    }
   ],
   "source": [
    "# Part 1\n",
    "\n",
    "edhub = EdHubDB()\n",
    "edhub.build_collection()"
   ]
  },
  {
   "cell_type": "code",
   "execution_count": 3,
   "id": "cafb117a",
   "metadata": {},
   "outputs": [
    {
     "name": "stdout",
     "output_type": "stream",
     "text": [
      "Seeded 20 documents into 'users' collection.\n",
      "Seeded 8 documents into 'courses' collection.\n",
      "Seeded 15 documents into 'enrollments' collection.\n",
      "Seeded 15 documents into 'lessons' collection.\n",
      "Seeded 10 documents into 'assignments' collection.\n",
      "Seeded 12 documents into 'submissions' collection.\n"
     ]
    }
   ],
   "source": [
    "# Part 2\n",
    "edhub.seed_database()"
   ]
  },
  {
   "cell_type": "markdown",
   "id": "8aff137e",
   "metadata": {},
   "source": [
    "## Part 3 - Basic CRUD Operations\n",
    "###  Create Operations"
   ]
  },
  {
   "cell_type": "code",
   "execution_count": 4,
   "id": "69caae0a",
   "metadata": {},
   "outputs": [
    {
     "data": {
      "text/plain": [
       "{'_id': ObjectId('684de9e37f70309d70a3e0f2'),\n",
       " 'userId': 'u100',\n",
       " 'email': 'gjackson@example.org',\n",
       " 'firstName': 'Allison',\n",
       " 'lastName': 'Stark',\n",
       " 'role': 'student',\n",
       " 'dateJoined': datetime.datetime(2023, 8, 9, 5, 15, 15, 678000),\n",
       " 'profile': {'bio': 'Expect front black soon surface top senior.',\n",
       "  'avatar': 'https://dummyimage.com/313x274',\n",
       "  'skills': ['APIs', 'Data Engineering', 'Python']},\n",
       " 'is_active': False}"
      ]
     },
     "execution_count": 4,
     "metadata": {},
     "output_type": "execute_result"
    }
   ],
   "source": [
    "# insert user\n",
    "\n",
    "user_id = \"u100\"\n",
    "edhub.insert_student(edhub.helper.make_user(user_id))\n",
    "\n",
    "# verify user is inserted\n",
    "edhub.users_col.find_one({\"userId\": user_id})"
   ]
  },
  {
   "cell_type": "code",
   "execution_count": 5,
   "id": "f08bd893",
   "metadata": {},
   "outputs": [
    {
     "data": {
      "text/plain": [
       "{'_id': ObjectId('684de9e37f70309d70a3e0f3'),\n",
       " 'courseId': 'c100',\n",
       " 'title': 'Day hit series require according.',\n",
       " 'description': 'Who table bit enter wind. Remember compare news perhaps return pull democratic claim. Himself last defense.',\n",
       " 'instructorId': 'u2',\n",
       " 'category': 'Data Engineering',\n",
       " 'level': 'advanced',\n",
       " 'duration': 56,\n",
       " 'price': 3758,\n",
       " 'tags': ['MongoDB', 'SQL'],\n",
       " 'createdAt': datetime.datetime(2023, 6, 2, 17, 59, 3, 208000),\n",
       " 'updatedAt': datetime.datetime(2025, 1, 26, 12, 39, 15, 402000),\n",
       " 'isPublished': True}"
      ]
     },
     "execution_count": 5,
     "metadata": {},
     "output_type": "execute_result"
    }
   ],
   "source": [
    "# insert course\n",
    "course_id = \"c100\"\n",
    "user_id = \"u2\" # role is instructor\n",
    "edhub.insert_course(edhub.helper.make_course(course_id=course_id, instructor_id=user_id))\n",
    "\n",
    "# verify course is inserted\n",
    "edhub.courses_col.find_one({\"courseId\": course_id})"
   ]
  },
  {
   "cell_type": "code",
   "execution_count": 6,
   "id": "b3ed78fd",
   "metadata": {},
   "outputs": [
    {
     "name": "stdout",
     "output_type": "stream",
     "text": [
      "684de9e37f70309d70a3e0f4\n"
     ]
    },
    {
     "data": {
      "text/plain": [
       "{'_id': ObjectId('684de9e37f70309d70a3e0f4'),\n",
       " 'enrollmentId': 'e16',\n",
       " 'studentId': 'u100',\n",
       " 'courseId': 'c100',\n",
       " 'enrollmentDate': datetime.datetime(2001, 7, 19, 6, 12, 30, 603000),\n",
       " 'progress': 0.0,\n",
       " 'completed': False,\n",
       " 'certificateIssued': False}"
      ]
     },
     "execution_count": 6,
     "metadata": {},
     "output_type": "execute_result"
    }
   ],
   "source": [
    "# Enroll a student into a course\n",
    "user_id = \"u100\" # existing user that's a student\n",
    "course_id = \"c100\" # existing course\n",
    "\n",
    "inserted_id = edhub.register_student(student_id=user_id, course_id=course_id)\n",
    "\n",
    "# verify enrollment is created\n",
    "print(inserted_id)\n",
    "edhub.enrollments_col.find_one({\"_id\": inserted_id})"
   ]
  },
  {
   "cell_type": "code",
   "execution_count": 7,
   "id": "15bbda8e",
   "metadata": {},
   "outputs": [
    {
     "data": {
      "text/plain": [
       "{'_id': ObjectId('684de9e37f70309d70a3e0f5'),\n",
       " 'lessonId': 'l100',\n",
       " 'courseId': 'c100',\n",
       " 'title': 'Law me road really certain should.',\n",
       " 'content': 'Page prepare page authority. Small south idea reveal our role huge. Account less reveal. Run teach how camera. Apply pressure lose I cup cause heart.',\n",
       " 'order': 14,\n",
       " 'resources': ['intro.pdf'],\n",
       " 'duration': 30,\n",
       " 'createdAt': datetime.datetime(2023, 1, 20, 20, 19, 49, 817000),\n",
       " 'updatedAt': datetime.datetime(2025, 2, 18, 23, 3, 55, 506000)}"
      ]
     },
     "execution_count": 7,
     "metadata": {},
     "output_type": "execute_result"
    }
   ],
   "source": [
    "# Add a new lesson to an existing course\n",
    "course_id = \"c100\" # existing course\n",
    "lesson_id = \"l100\"\n",
    "\n",
    "edhub.insert_lesson(edhub.helper.make_lesson(lesson_id=lesson_id, course_id=course_id))\n",
    "\n",
    "# verify lesson is created\n",
    "edhub.lessons_col.find_one({\"lessonId\": lesson_id})"
   ]
  },
  {
   "cell_type": "markdown",
   "id": "7a3ed664",
   "metadata": {},
   "source": [
    "### Read Operations"
   ]
  },
  {
   "cell_type": "code",
   "execution_count": 8,
   "id": "2a9244c6",
   "metadata": {},
   "outputs": [
    {
     "data": {
      "text/plain": [
       "[{'_id': ObjectId('684de9e37f70309d70a3e0a2'),\n",
       "  'userId': 'u1',\n",
       "  'email': 'alice.student@example.com',\n",
       "  'firstName': 'Alice',\n",
       "  'lastName': 'Johnson',\n",
       "  'role': 'student',\n",
       "  'dateJoined': datetime.datetime(2025, 4, 10, 9, 0),\n",
       "  'profile': {'bio': 'Aspiring developer.',\n",
       "   'avatar': 'alice.jpg',\n",
       "   'skills': ['JavaScript', 'HTML']},\n",
       "  'isActive': True},\n",
       " {'_id': ObjectId('684de9e37f70309d70a3e0a4'),\n",
       "  'userId': 'u3',\n",
       "  'email': 'carol.student@example.com',\n",
       "  'firstName': 'Carol',\n",
       "  'lastName': 'Lee',\n",
       "  'role': 'student',\n",
       "  'dateJoined': datetime.datetime(2024, 2, 1, 11, 0),\n",
       "  'profile': {'bio': 'Interested in data science.',\n",
       "   'avatar': 'carol.jpg',\n",
       "   'skills': ['Python', 'Pandas']},\n",
       "  'isActive': True},\n",
       " {'_id': ObjectId('684de9e37f70309d70a3e0a6'),\n",
       "  'userId': 'u5',\n",
       "  'email': 'eve.student@example.com',\n",
       "  'firstName': 'Eve',\n",
       "  'lastName': 'Davis',\n",
       "  'role': 'student',\n",
       "  'dateJoined': datetime.datetime(2024, 3, 5, 13, 0),\n",
       "  'profile': {'bio': 'Frontend enthusiast.',\n",
       "   'avatar': 'eve.jpg',\n",
       "   'skills': ['CSS', 'React']},\n",
       "  'isActive': True},\n",
       " {'_id': ObjectId('684de9e37f70309d70a3e0a8'),\n",
       "  'userId': 'u7',\n",
       "  'email': 'grace.student@example.com',\n",
       "  'firstName': 'Grace',\n",
       "  'lastName': 'Wilson',\n",
       "  'role': 'student',\n",
       "  'dateJoined': datetime.datetime(2024, 4, 12, 15, 0),\n",
       "  'profile': {'bio': 'Learning cloud computing.',\n",
       "   'avatar': 'grace.jpg',\n",
       "   'skills': ['AWS', 'Azure']},\n",
       "  'isActive': True},\n",
       " {'_id': ObjectId('684de9e37f70309d70a3e0aa'),\n",
       "  'userId': 'u9',\n",
       "  'email': 'ivy.student@example.com',\n",
       "  'firstName': 'Ivy',\n",
       "  'lastName': 'Taylor',\n",
       "  'role': 'student',\n",
       "  'dateJoined': datetime.datetime(2024, 5, 20, 17, 0),\n",
       "  'profile': {'bio': 'Interested in mobile apps.',\n",
       "   'avatar': 'ivy.jpg',\n",
       "   'skills': ['Flutter', 'Dart']},\n",
       "  'isActive': True},\n",
       " {'_id': ObjectId('684de9e37f70309d70a3e0ac'),\n",
       "  'userId': 'u11',\n",
       "  'email': 'kate.student@example.com',\n",
       "  'firstName': 'Kate',\n",
       "  'lastName': 'Thomas',\n",
       "  'role': 'student',\n",
       "  'dateJoined': datetime.datetime(2024, 6, 1, 19, 0),\n",
       "  'profile': {'bio': 'Learning programming.',\n",
       "   'avatar': 'kate.jpg',\n",
       "   'skills': ['C++', 'Python']},\n",
       "  'isActive': True},\n",
       " {'_id': ObjectId('684de9e37f70309d70a3e0ae'),\n",
       "  'userId': 'u13',\n",
       "  'email': 'mia.student@example.com',\n",
       "  'firstName': 'Mia',\n",
       "  'lastName': 'White',\n",
       "  'role': 'student',\n",
       "  'dateJoined': datetime.datetime(2024, 6, 5, 21, 0),\n",
       "  'cour': {'bio': 'Interested in AI.',\n",
       "   'avatar': 'mia.jpg',\n",
       "   'skills': ['Python', 'ML']},\n",
       "  'isActive': True},\n",
       " {'_id': ObjectId('684de9e37f70309d70a3e0b0'),\n",
       "  'userId': 'u15',\n",
       "  'email': 'oliver.student@example.com',\n",
       "  'firstName': 'Oliver',\n",
       "  'lastName': 'Martin',\n",
       "  'role': 'student',\n",
       "  'dateJoined': datetime.datetime(2024, 6, 10, 23, 0),\n",
       "  'profile': {'bio': 'Learning backend.',\n",
       "   'avatar': 'oliver.jpg',\n",
       "   'skills': ['Node.js', 'Express']},\n",
       "  'isActive': True},\n",
       " {'_id': ObjectId('684de9e37f70309d70a3e0b2'),\n",
       "  'userId': 'u17',\n",
       "  'email': 'quinn.student@example.com',\n",
       "  'firstName': 'Quinn',\n",
       "  'lastName': 'Lewis',\n",
       "  'role': 'student',\n",
       "  'dateJoined': datetime.datetime(2024, 6, 11, 9, 0),\n",
       "  'profile': {'bio': 'Interested in DevOps.',\n",
       "   'avatar': 'quinn.jpg',\n",
       "   'skills': ['Docker', 'CI/CD']},\n",
       "  'isActive': True},\n",
       " {'_id': ObjectId('684de9e37f70309d70a3e0b4'),\n",
       "  'userId': 'u19',\n",
       "  'email': 'sam.student@example.com',\n",
       "  'firstName': 'Sam',\n",
       "  'lastName': 'Hall',\n",
       "  'role': 'student',\n",
       "  'dateJoined': datetime.datetime(2024, 6, 12, 11, 0),\n",
       "  'profile': {'bio': 'Learning databases.',\n",
       "   'avatar': 'sam.jpg',\n",
       "   'skills': ['SQL', 'MongoDB']},\n",
       "  'isActive': True}]"
      ]
     },
     "execution_count": 8,
     "metadata": {},
     "output_type": "execute_result"
    }
   ],
   "source": [
    "# Find all active students\n",
    "edhub.get_active_students()"
   ]
  },
  {
   "cell_type": "code",
   "execution_count": 9,
   "id": "6696a01a",
   "metadata": {},
   "outputs": [
    {
     "data": {
      "text/plain": [
       "[{'_id': ObjectId('684de9e37f70309d70a3e0b6'),\n",
       "  'courseId': 'c1',\n",
       "  'title': 'Introduction to JavaScript',\n",
       "  'description': 'Learn the basics of JavaScript.',\n",
       "  'instructorId': 'u2',\n",
       "  'category': 'Programming',\n",
       "  'level': 'beginner',\n",
       "  'duration': 10,\n",
       "  'price': 0,\n",
       "  'tags': ['JavaScript', 'Web'],\n",
       "  'createdAt': datetime.datetime(2024, 1, 1, 9, 0),\n",
       "  'updatedAt': datetime.datetime(2024, 1, 10, 9, 0),\n",
       "  'isPublished': False,\n",
       "  'rating': 3,\n",
       "  'instructor': {'_id': ObjectId('684de9e37f70309d70a3e0a3'),\n",
       "   'userId': 'u2',\n",
       "   'email': 'bob.instructor@example.com',\n",
       "   'firstName': 'Bob',\n",
       "   'lastName': 'Smith',\n",
       "   'role': 'instructor',\n",
       "   'dateJoined': datetime.datetime(2025, 2, 15, 10, 0),\n",
       "   'profile': {'bio': 'Full-stack instructor.',\n",
       "    'avatar': 'bob.jpg',\n",
       "    'skills': ['Node.js', 'MongoDB']},\n",
       "   'isActive': True}},\n",
       " {'_id': ObjectId('684de9e37f70309d70a3e0b7'),\n",
       "  'courseId': 'c2',\n",
       "  'title': 'Advanced Python',\n",
       "  'description': 'Deep dive into Python.',\n",
       "  'instructorId': 'u8',\n",
       "  'category': 'Programming',\n",
       "  'level': 'advanced',\n",
       "  'duration': 20,\n",
       "  'price': 50,\n",
       "  'tags': ['Python', 'Advanced', 'Web'],\n",
       "  'createdAt': datetime.datetime(2024, 2, 1, 9, 0),\n",
       "  'updatedAt': datetime.datetime(2024, 2, 10, 9, 0),\n",
       "  'isPublished': True,\n",
       "  'rating': 4,\n",
       "  'instructor': {'_id': ObjectId('684de9e37f70309d70a3e0a9'),\n",
       "   'userId': 'u8',\n",
       "   'email': 'henry.instructor@example.com',\n",
       "   'firstName': 'Henry',\n",
       "   'lastName': 'Moore',\n",
       "   'role': 'instructor',\n",
       "   'dateJoined': datetime.datetime(2023, 9, 18, 16, 0),\n",
       "   'profile': {'bio': 'AI/ML instructor.',\n",
       "    'avatar': 'henry.jpg',\n",
       "    'skills': ['TensorFlow', 'PyTorch']},\n",
       "   'isActive': True}},\n",
       " {'_id': ObjectId('684de9e37f70309d70a3e0b8'),\n",
       "  'courseId': 'c3',\n",
       "  'title': 'Web Design Fundamentals',\n",
       "  'description': 'Basics of web design.',\n",
       "  'instructorId': 'u14',\n",
       "  'category': 'Design',\n",
       "  'level': 'beginner',\n",
       "  'duration': 8,\n",
       "  'price': 20,\n",
       "  'tags': ['Design', 'UI/UX'],\n",
       "  'createdAt': datetime.datetime(2024, 3, 1, 9, 0),\n",
       "  'updatedAt': datetime.datetime(2024, 3, 10, 9, 0),\n",
       "  'isPublished': True,\n",
       "  'rating': 4,\n",
       "  'instructor': {'_id': ObjectId('684de9e37f70309d70a3e0af'),\n",
       "   'userId': 'u14',\n",
       "   'email': 'nina.instructor@example.com',\n",
       "   'firstName': 'Nina',\n",
       "   'lastName': 'Harris',\n",
       "   'role': 'instructor',\n",
       "   'dateJoined': datetime.datetime(2023, 6, 15, 22, 0),\n",
       "   'profile': {'bio': 'UI/UX designer.',\n",
       "    'avatar': 'nina.jpg',\n",
       "    'skills': ['Figma', 'Sketch']},\n",
       "   'isActive': True}},\n",
       " {'_id': ObjectId('684de9e37f70309d70a3e0b9'),\n",
       "  'courseId': 'c4',\n",
       "  'title': 'Database Management',\n",
       "  'description': 'Learn about databases.',\n",
       "  'instructorId': 'u10',\n",
       "  'category': 'Database',\n",
       "  'level': 'intermediate',\n",
       "  'duration': 12,\n",
       "  'price': 30,\n",
       "  'tags': ['Database', 'SQL', 'MongoDB', 'Web'],\n",
       "  'createdAt': datetime.datetime(2024, 4, 1, 9, 0),\n",
       "  'updatedAt': datetime.datetime(2024, 4, 10, 9, 0),\n",
       "  'isPublished': True,\n",
       "  'rating': 5,\n",
       "  'instructor': {'_id': ObjectId('684de9e37f70309d70a3e0ab'),\n",
       "   'userId': 'u10',\n",
       "   'email': 'jack.instructor@example.com',\n",
       "   'firstName': 'Jack',\n",
       "   'lastName': 'Anderson',\n",
       "   'role': 'instructor',\n",
       "   'dateJoined': datetime.datetime(2023, 8, 22, 18, 0),\n",
       "   'profile': {'bio': 'Database expert.',\n",
       "    'avatar': 'jack.jpg',\n",
       "    'skills': ['MongoDB', 'SQL']},\n",
       "   'isActive': True}},\n",
       " {'_id': ObjectId('684de9e37f70309d70a3e0ba'),\n",
       "  'courseId': 'c5',\n",
       "  'title': 'Cloud Computing Basics',\n",
       "  'description': 'Introduction to cloud platforms.',\n",
       "  'instructorId': 'u16',\n",
       "  'category': 'Cloud',\n",
       "  'level': 'beginner',\n",
       "  'duration': 15,\n",
       "  'price': 40,\n",
       "  'tags': ['Cloud', 'AWS', 'GCP'],\n",
       "  'createdAt': datetime.datetime(2024, 5, 1, 9, 0),\n",
       "  'updatedAt': datetime.datetime(2024, 5, 10, 9, 0),\n",
       "  'isPublished': True,\n",
       "  'rating': 2,\n",
       "  'instructor': {'_id': ObjectId('684de9e37f70309d70a3e0b1'),\n",
       "   'userId': 'u16',\n",
       "   'email': 'paul.instructor@example.com',\n",
       "   'firstName': 'Paul',\n",
       "   'lastName': 'Clark',\n",
       "   'role': 'instructor',\n",
       "   'dateJoined': datetime.datetime(2023, 5, 12, 8, 0),\n",
       "   'profile': {'bio': 'Cloud architect.',\n",
       "    'avatar': 'paul.jpg',\n",
       "    'skills': ['AWS', 'GCP']},\n",
       "   'isActive': True}},\n",
       " {'_id': ObjectId('684de9e37f70309d70a3e0bb'),\n",
       "  'courseId': 'c6',\n",
       "  'title': 'Mobile App Development',\n",
       "  'description': 'Build mobile apps.',\n",
       "  'instructorId': 'u18',\n",
       "  'category': 'Mobile',\n",
       "  'level': 'intermediate',\n",
       "  'duration': 18,\n",
       "  'price': 60,\n",
       "  'tags': ['Mobile', 'Flutter'],\n",
       "  'createdAt': datetime.datetime(2024, 6, 1, 9, 0),\n",
       "  'updatedAt': datetime.datetime(2024, 6, 10, 9, 0),\n",
       "  'isPublished': True,\n",
       "  'rating': 4,\n",
       "  'instructor': {'_id': ObjectId('684de9e37f70309d70a3e0b3'),\n",
       "   'userId': 'u18',\n",
       "   'email': 'rachel.instructor@example.com',\n",
       "   'firstName': 'Rachel',\n",
       "   'lastName': 'Walker',\n",
       "   'role': 'instructor',\n",
       "   'dateJoined': datetime.datetime(2023, 4, 10, 10, 0),\n",
       "   'profile': {'bio': 'Mobile app developer.',\n",
       "    'avatar': 'rachel.jpg',\n",
       "    'skills': ['Flutter', 'Swift']},\n",
       "   'isActive': True}},\n",
       " {'_id': ObjectId('684de9e37f70309d70a3e0bc'),\n",
       "  'courseId': 'c7',\n",
       "  'title': 'DevOps Essentials',\n",
       "  'description': 'Learn DevOps tools.',\n",
       "  'instructorId': 'u6',\n",
       "  'category': 'DevOps',\n",
       "  'level': 'intermediate',\n",
       "  'duration': 14,\n",
       "  'price': 35,\n",
       "  'tags': ['DevOps', 'Docker'],\n",
       "  'createdAt': datetime.datetime(2024, 7, 1, 9, 0),\n",
       "  'updatedAt': datetime.datetime(2024, 7, 10, 9, 0),\n",
       "  'isPublished': True,\n",
       "  'rating': 4,\n",
       "  'instructor': {'_id': ObjectId('684de9e37f70309d70a3e0a7'),\n",
       "   'userId': 'u6',\n",
       "   'email': 'frank.instructor@example.com',\n",
       "   'firstName': 'Frank',\n",
       "   'lastName': 'Miller',\n",
       "   'role': 'instructor',\n",
       "   'dateJoined': datetime.datetime(2023, 10, 10, 14, 0),\n",
       "   'profile': {'bio': 'DevOps engineer.',\n",
       "    'avatar': 'frank.jpg',\n",
       "    'skills': ['Docker', 'Kubernetes']},\n",
       "   'isActive': True}},\n",
       " {'_id': ObjectId('684de9e37f70309d70a3e0bd'),\n",
       "  'courseId': 'c8',\n",
       "  'title': 'Cybersecurity Fundamentals',\n",
       "  'description': 'Basics of cybersecurity.',\n",
       "  'instructorId': 'u12',\n",
       "  'category': 'Security',\n",
       "  'level': 'beginner',\n",
       "  'duration': 9,\n",
       "  'price': 25,\n",
       "  'tags': ['Security', 'Linux'],\n",
       "  'createdAt': datetime.datetime(2024, 8, 1, 9, 0),\n",
       "  'updatedAt': datetime.datetime(2024, 8, 10, 9, 0),\n",
       "  'isPublished': True,\n",
       "  'rating': 5,\n",
       "  'instructor': {'_id': ObjectId('684de9e37f70309d70a3e0ad'),\n",
       "   'userId': 'u12',\n",
       "   'email': 'leo.instructor@example.com',\n",
       "   'firstName': 'Leo',\n",
       "   'lastName': 'Jackson',\n",
       "   'role': 'instructor',\n",
       "   'dateJoined': datetime.datetime(2023, 7, 30, 20, 0),\n",
       "   'profile': {'bio': 'Cybersecurity instructor.',\n",
       "    'avatar': 'leo.jpg',\n",
       "    'skills': ['Security', 'Linux']},\n",
       "   'isActive': True}},\n",
       " {'_id': ObjectId('684de9e37f70309d70a3e0f3'),\n",
       "  'courseId': 'c100',\n",
       "  'title': 'Day hit series require according.',\n",
       "  'description': 'Who table bit enter wind. Remember compare news perhaps return pull democratic claim. Himself last defense.',\n",
       "  'instructorId': 'u2',\n",
       "  'category': 'Data Engineering',\n",
       "  'level': 'advanced',\n",
       "  'duration': 56,\n",
       "  'price': 3758,\n",
       "  'tags': ['MongoDB', 'SQL'],\n",
       "  'createdAt': datetime.datetime(2023, 6, 2, 17, 59, 3, 208000),\n",
       "  'updatedAt': datetime.datetime(2025, 1, 26, 12, 39, 15, 402000),\n",
       "  'isPublished': True,\n",
       "  'instructor': {'_id': ObjectId('684de9e37f70309d70a3e0a3'),\n",
       "   'userId': 'u2',\n",
       "   'email': 'bob.instructor@example.com',\n",
       "   'firstName': 'Bob',\n",
       "   'lastName': 'Smith',\n",
       "   'role': 'instructor',\n",
       "   'dateJoined': datetime.datetime(2025, 2, 15, 10, 0),\n",
       "   'profile': {'bio': 'Full-stack instructor.',\n",
       "    'avatar': 'bob.jpg',\n",
       "    'skills': ['Node.js', 'MongoDB']},\n",
       "   'isActive': True}}]"
      ]
     },
     "execution_count": 9,
     "metadata": {},
     "output_type": "execute_result"
    }
   ],
   "source": [
    "# Retrieve course details with instructor information\n",
    "edhub.get_course_details()"
   ]
  },
  {
   "cell_type": "code",
   "execution_count": 10,
   "id": "678304f2",
   "metadata": {},
   "outputs": [
    {
     "data": {
      "text/plain": [
       "[{'_id': ObjectId('684de9e37f70309d70a3e0b6'),\n",
       "  'courseId': 'c1',\n",
       "  'title': 'Introduction to JavaScript',\n",
       "  'description': 'Learn the basics of JavaScript.',\n",
       "  'instructorId': 'u2',\n",
       "  'category': 'Programming',\n",
       "  'level': 'beginner',\n",
       "  'duration': 10,\n",
       "  'price': 0,\n",
       "  'tags': ['JavaScript', 'Web'],\n",
       "  'createdAt': datetime.datetime(2024, 1, 1, 9, 0),\n",
       "  'updatedAt': datetime.datetime(2024, 1, 10, 9, 0),\n",
       "  'isPublished': False,\n",
       "  'rating': 3},\n",
       " {'_id': ObjectId('684de9e37f70309d70a3e0b7'),\n",
       "  'courseId': 'c2',\n",
       "  'title': 'Advanced Python',\n",
       "  'description': 'Deep dive into Python.',\n",
       "  'instructorId': 'u8',\n",
       "  'category': 'Programming',\n",
       "  'level': 'advanced',\n",
       "  'duration': 20,\n",
       "  'price': 50,\n",
       "  'tags': ['Python', 'Advanced', 'Web'],\n",
       "  'createdAt': datetime.datetime(2024, 2, 1, 9, 0),\n",
       "  'updatedAt': datetime.datetime(2024, 2, 10, 9, 0),\n",
       "  'isPublished': True,\n",
       "  'rating': 4}]"
      ]
     },
     "execution_count": 10,
     "metadata": {},
     "output_type": "execute_result"
    }
   ],
   "source": [
    "# Get all courses in a specific category\n",
    "edhub.get_courses_by_category(\"Programming\")"
   ]
  },
  {
   "cell_type": "code",
   "execution_count": 11,
   "id": "dc57e395",
   "metadata": {},
   "outputs": [
    {
     "data": {
      "text/plain": [
       "[{'_id': ObjectId('684de9e37f70309d70a3e0a2'),\n",
       "  'userId': 'u1',\n",
       "  'email': 'alice.student@example.com',\n",
       "  'firstName': 'Alice',\n",
       "  'lastName': 'Johnson',\n",
       "  'role': 'student',\n",
       "  'dateJoined': datetime.datetime(2025, 4, 10, 9, 0),\n",
       "  'profile': {'bio': 'Aspiring developer.',\n",
       "   'avatar': 'alice.jpg',\n",
       "   'skills': ['JavaScript', 'HTML']},\n",
       "  'isActive': True},\n",
       " {'_id': ObjectId('684de9e37f70309d70a3e0b2'),\n",
       "  'userId': 'u17',\n",
       "  'email': 'quinn.student@example.com',\n",
       "  'firstName': 'Quinn',\n",
       "  'lastName': 'Lewis',\n",
       "  'role': 'student',\n",
       "  'dateJoined': datetime.datetime(2024, 6, 11, 9, 0),\n",
       "  'profile': {'bio': 'Interested in DevOps.',\n",
       "   'avatar': 'quinn.jpg',\n",
       "   'skills': ['Docker', 'CI/CD']},\n",
       "  'isActive': True}]"
      ]
     },
     "execution_count": 11,
     "metadata": {},
     "output_type": "execute_result"
    }
   ],
   "source": [
    "# Find students enrolled in a particular course\n",
    "course_id = \"c1\"\n",
    "edhub.get_student_enrolled_to_course(course_id=course_id)"
   ]
  },
  {
   "cell_type": "code",
   "execution_count": 12,
   "id": "f1efb03c",
   "metadata": {},
   "outputs": [
    {
     "data": {
      "text/plain": [
       "[{'_id': ObjectId('684de9e37f70309d70a3e0b7'),\n",
       "  'courseId': 'c2',\n",
       "  'title': 'Advanced Python',\n",
       "  'description': 'Deep dive into Python.',\n",
       "  'instructorId': 'u8',\n",
       "  'category': 'Programming',\n",
       "  'level': 'advanced',\n",
       "  'duration': 20,\n",
       "  'price': 50,\n",
       "  'tags': ['Python', 'Advanced', 'Web'],\n",
       "  'createdAt': datetime.datetime(2024, 2, 1, 9, 0),\n",
       "  'updatedAt': datetime.datetime(2024, 2, 10, 9, 0),\n",
       "  'isPublished': True,\n",
       "  'rating': 4}]"
      ]
     },
     "execution_count": 12,
     "metadata": {},
     "output_type": "execute_result"
    }
   ],
   "source": [
    "# Search courses by title (case-insensitive, partial match)\n",
    "partial_title = \"py\"\n",
    "\n",
    "edhub.search_courses_by_title(partial_title)"
   ]
  },
  {
   "cell_type": "markdown",
   "id": "88bfb57f",
   "metadata": {},
   "source": [
    "### Update Operations"
   ]
  },
  {
   "cell_type": "code",
   "execution_count": 13,
   "id": "6c4d1b7b",
   "metadata": {},
   "outputs": [
    {
     "name": "stdout",
     "output_type": "stream",
     "text": [
      "Original:  {'bio': 'Aspiring developer.', 'avatar': 'alice.jpg', 'skills': ['JavaScript', 'HTML']}\n",
      "Updated:  {'bio': 'Software engineer', 'avatar': 'alice.png', 'skills': ['Ruby', 'Go']}\n"
     ]
    }
   ],
   "source": [
    "# Update a user’s profile information\n",
    "user_id = \"u1\"\n",
    "\n",
    "user = edhub.users_col.find_one({\"userId\": user_id})\n",
    "\n",
    "print(\"Original: \", user[\"profile\"])\n",
    "\n",
    "profile = {\n",
    "    \"bio\": \"Software engineer\",\n",
    "    \"avatar\": \"alice.png\",\n",
    "    \"skills\": [\"Ruby\", \"Go\"]\n",
    "}\n",
    "\n",
    "edhub.modify_profile(user_id=user_id, updates=profile)\n",
    "\n",
    "user = edhub.users_col.find_one({\"userId\": user_id})\n",
    "\n",
    "print(\"Updated: \", user[\"profile\"])"
   ]
  },
  {
   "cell_type": "code",
   "execution_count": 14,
   "id": "2901f420",
   "metadata": {},
   "outputs": [
    {
     "name": "stdout",
     "output_type": "stream",
     "text": [
      "Original:  False\n",
      "Updated:  True\n"
     ]
    }
   ],
   "source": [
    "# Mark a course as published\n",
    "course_id = \"c1\"\n",
    "\n",
    "course = edhub.courses_col.find_one({\"courseId\": course_id})\n",
    "print(\"Original: \", course[\"isPublished\"])\n",
    "\n",
    "edhub.publish_course(course_id=course_id)\n",
    "course = edhub.courses_col.find_one({\"courseId\": course_id})\n",
    "print(\"Updated: \", course[\"isPublished\"])\n"
   ]
  },
  {
   "cell_type": "code",
   "execution_count": 15,
   "id": "1d1cd002",
   "metadata": {},
   "outputs": [
    {
     "name": "stdout",
     "output_type": "stream",
     "text": [
      "Original:  95\n",
      "Updated:  40\n"
     ]
    }
   ],
   "source": [
    "# Update assignment grade\n",
    "\n",
    "submission_id = \"s1\"\n",
    "grade = 40\n",
    "feedback = \"Good work\"\n",
    "\n",
    "submission = edhub.submissions_col.find_one({\"submissionId\": submission_id})\n",
    "print(\"Original: \", submission[\"grade\"])\n",
    "\n",
    "edhub.update_assignment_grade(submission_id=submission_id, grade=grade, feedback=feedback)\n",
    "\n",
    "submission = edhub.submissions_col.find_one({\"submissionId\": submission_id})\n",
    "print(\"Updated: \", submission[\"grade\"])"
   ]
  },
  {
   "cell_type": "code",
   "execution_count": 16,
   "id": "9b12d0fb",
   "metadata": {},
   "outputs": [
    {
     "name": "stdout",
     "output_type": "stream",
     "text": [
      "Original:  ['JavaScript', 'Web']\n",
      "Updated:  ['JavaScript', 'Web', 'Nodejs']\n"
     ]
    }
   ],
   "source": [
    "# Add tags to an existing course\n",
    "course_id = \"c1\"\n",
    "\n",
    "course = edhub.courses_col.find_one({\"courseId\": course_id})\n",
    "print(\"Original: \", course[\"tags\"])\n",
    "\n",
    "edhub.add_tags_to_course(course_id=course_id, tags=[\"Nodejs\"])\n",
    "\n",
    "course = edhub.courses_col.find_one({\"courseId\": course_id})\n",
    "print(\"Updated: \", course[\"tags\"])\n"
   ]
  },
  {
   "cell_type": "markdown",
   "id": "14803f57",
   "metadata": {},
   "source": [
    "### Delete Operations"
   ]
  },
  {
   "cell_type": "code",
   "execution_count": 17,
   "id": "f68fa4f2",
   "metadata": {},
   "outputs": [
    {
     "name": "stdout",
     "output_type": "stream",
     "text": [
      "Original:  True\n",
      "Updated:  False\n"
     ]
    }
   ],
   "source": [
    "# Remove a user (soft delete by setting isActive to false)\n",
    "user_id = \"u1\"\n",
    "\n",
    "user = edhub.users_col.find_one({\"userId\": user_id})\n",
    "print(\"Original: \", user[\"isActive\"])\n",
    "\n",
    "edhub.deactivate_user(user_id=user_id)\n",
    "\n",
    "user = edhub.users_col.find_one({\"userId\": user_id})\n",
    "print(\"Updated: \", user[\"isActive\"])\n"
   ]
  },
  {
   "cell_type": "code",
   "execution_count": 18,
   "id": "6b17e436",
   "metadata": {},
   "outputs": [
    {
     "name": "stdout",
     "output_type": "stream",
     "text": [
      "Original:  {'_id': ObjectId('684de9e37f70309d70a3e0cc'), 'enrollmentId': 'e15', 'studentId': 'u9', 'courseId': 'c7', 'enrollmentDate': datetime.datetime(2024, 6, 18, 9, 0), 'progress': 1.0, 'completed': True, 'certificateIssued': True}\n",
      "Updated:  None\n"
     ]
    }
   ],
   "source": [
    "# Delete an enrollment\n",
    "\n",
    "enrollment_id = \"e15\"\n",
    "\n",
    "enrollment = edhub.enrollments_col.find_one({\"enrollmentId\": enrollment_id})\n",
    "print(\"Original: \", enrollment)\n",
    "\n",
    "edhub.delete_enrollment(enrollment_id=enrollment_id)\n",
    "\n",
    "enrollment = edhub.enrollments_col.find_one({\"enrollmentId\": enrollment_id})\n",
    "print(\"Updated: \", enrollment)"
   ]
  },
  {
   "cell_type": "code",
   "execution_count": 19,
   "id": "d35409a7",
   "metadata": {},
   "outputs": [
    {
     "name": "stdout",
     "output_type": "stream",
     "text": [
      "Original:  {'_id': ObjectId('684de9e37f70309d70a3e0cd'), 'lessonId': 'l1', 'courseId': 'c1', 'title': 'JS Introduction', 'content': 'Welcome to JavaScript.', 'order': 1, 'resources': ['intro.pdf'], 'duration': 30, 'createdAt': datetime.datetime(2024, 1, 1, 9, 0), 'updatedAt': datetime.datetime(2024, 1, 2, 9, 0)}\n",
      "Updated:  {'_id': ObjectId('684de9e37f70309d70a3e0cd'), 'lessonId': 'l1', 'courseId': '', 'title': 'JS Introduction', 'content': 'Welcome to JavaScript.', 'order': 1, 'resources': ['intro.pdf'], 'duration': 30, 'createdAt': datetime.datetime(2024, 1, 1, 9, 0), 'updatedAt': datetime.datetime(2024, 1, 2, 9, 0)}\n"
     ]
    }
   ],
   "source": [
    "# Remove a lesson from a course\n",
    "lesson_id = \"l1\"\n",
    "course_id = \"c1\"\n",
    "\n",
    "lesson = edhub.lessons_col.find_one({\"lessonId\": lesson_id})\n",
    "print(\"Original: \", lesson)\n",
    "\n",
    "edhub.remove_lesson_from_course(lesson_id=lesson_id, course_id=course_id)\n",
    "\n",
    "lesson = edhub.lessons_col.find_one({\"lessonId\": lesson_id})\n",
    "print(\"Updated: \", lesson)\n"
   ]
  },
  {
   "cell_type": "markdown",
   "id": "7278d1e0",
   "metadata": {},
   "source": [
    "## Part 4: Advanced Queries and Aggregation (25 points)\n",
    "\n",
    "### Complex Queries"
   ]
  },
  {
   "cell_type": "code",
   "execution_count": 20,
   "id": "45bb345d",
   "metadata": {},
   "outputs": [
    {
     "data": {
      "text/plain": [
       "[{'_id': ObjectId('684de9e37f70309d70a3e0b7'),\n",
       "  'courseId': 'c2',\n",
       "  'title': 'Advanced Python',\n",
       "  'description': 'Deep dive into Python.',\n",
       "  'instructorId': 'u8',\n",
       "  'category': 'Programming',\n",
       "  'level': 'advanced',\n",
       "  'duration': 20,\n",
       "  'price': 50,\n",
       "  'tags': ['Python', 'Advanced', 'Web'],\n",
       "  'createdAt': datetime.datetime(2024, 2, 1, 9, 0),\n",
       "  'updatedAt': datetime.datetime(2024, 2, 10, 9, 0),\n",
       "  'isPublished': True,\n",
       "  'rating': 4},\n",
       " {'_id': ObjectId('684de9e37f70309d70a3e0bb'),\n",
       "  'courseId': 'c6',\n",
       "  'title': 'Mobile App Development',\n",
       "  'description': 'Build mobile apps.',\n",
       "  'instructorId': 'u18',\n",
       "  'category': 'Mobile',\n",
       "  'level': 'intermediate',\n",
       "  'duration': 18,\n",
       "  'price': 60,\n",
       "  'tags': ['Mobile', 'Flutter'],\n",
       "  'createdAt': datetime.datetime(2024, 6, 1, 9, 0),\n",
       "  'updatedAt': datetime.datetime(2024, 6, 10, 9, 0),\n",
       "  'isPublished': True,\n",
       "  'rating': 4}]"
      ]
     },
     "execution_count": 20,
     "metadata": {},
     "output_type": "execute_result"
    }
   ],
   "source": [
    "# Find courses with price between $50 and $200\n",
    "min_price = 50\n",
    "max_price = 200\n",
    "\n",
    "edhub.courses_by_price(min_price, max_price)"
   ]
  },
  {
   "cell_type": "code",
   "execution_count": 21,
   "id": "3319cd98",
   "metadata": {},
   "outputs": [
    {
     "data": {
      "text/plain": [
       "[{'_id': ObjectId('684de9e37f70309d70a3e0a2'),\n",
       "  'userId': 'u1',\n",
       "  'email': 'alice.student@example.com',\n",
       "  'firstName': 'Alice',\n",
       "  'lastName': 'Johnson',\n",
       "  'role': 'student',\n",
       "  'dateJoined': datetime.datetime(2025, 4, 10, 9, 0),\n",
       "  'profile': {'bio': 'Software engineer',\n",
       "   'avatar': 'alice.png',\n",
       "   'skills': ['Ruby', 'Go']},\n",
       "  'isActive': False},\n",
       " {'_id': ObjectId('684de9e37f70309d70a3e0a3'),\n",
       "  'userId': 'u2',\n",
       "  'email': 'bob.instructor@example.com',\n",
       "  'firstName': 'Bob',\n",
       "  'lastName': 'Smith',\n",
       "  'role': 'instructor',\n",
       "  'dateJoined': datetime.datetime(2025, 2, 15, 10, 0),\n",
       "  'profile': {'bio': 'Full-stack instructor.',\n",
       "   'avatar': 'bob.jpg',\n",
       "   'skills': ['Node.js', 'MongoDB']},\n",
       "  'isActive': True}]"
      ]
     },
     "execution_count": 21,
     "metadata": {},
     "output_type": "execute_result"
    }
   ],
   "source": [
    "# Get users who joined in the last 6 months\n",
    "edhub.recent_signups(months=6)"
   ]
  },
  {
   "cell_type": "code",
   "execution_count": 22,
   "id": "96db0f61",
   "metadata": {},
   "outputs": [
    {
     "data": {
      "text/plain": [
       "[{'_id': ObjectId('684de9e37f70309d70a3e0b6'),\n",
       "  'courseId': 'c1',\n",
       "  'title': 'Introduction to JavaScript',\n",
       "  'description': 'Learn the basics of JavaScript.',\n",
       "  'instructorId': 'u2',\n",
       "  'category': 'Programming',\n",
       "  'level': 'beginner',\n",
       "  'duration': 10,\n",
       "  'price': 0,\n",
       "  'tags': ['JavaScript', 'Web', 'Nodejs'],\n",
       "  'createdAt': datetime.datetime(2024, 1, 1, 9, 0),\n",
       "  'updatedAt': datetime.datetime(2024, 1, 10, 9, 0),\n",
       "  'isPublished': True,\n",
       "  'rating': 3},\n",
       " {'_id': ObjectId('684de9e37f70309d70a3e0b7'),\n",
       "  'courseId': 'c2',\n",
       "  'title': 'Advanced Python',\n",
       "  'description': 'Deep dive into Python.',\n",
       "  'instructorId': 'u8',\n",
       "  'category': 'Programming',\n",
       "  'level': 'advanced',\n",
       "  'duration': 20,\n",
       "  'price': 50,\n",
       "  'tags': ['Python', 'Advanced', 'Web'],\n",
       "  'createdAt': datetime.datetime(2024, 2, 1, 9, 0),\n",
       "  'updatedAt': datetime.datetime(2024, 2, 10, 9, 0),\n",
       "  'isPublished': True,\n",
       "  'rating': 4},\n",
       " {'_id': ObjectId('684de9e37f70309d70a3e0b9'),\n",
       "  'courseId': 'c4',\n",
       "  'title': 'Database Management',\n",
       "  'description': 'Learn about databases.',\n",
       "  'instructorId': 'u10',\n",
       "  'category': 'Database',\n",
       "  'level': 'intermediate',\n",
       "  'duration': 12,\n",
       "  'price': 30,\n",
       "  'tags': ['Database', 'SQL', 'MongoDB', 'Web'],\n",
       "  'createdAt': datetime.datetime(2024, 4, 1, 9, 0),\n",
       "  'updatedAt': datetime.datetime(2024, 4, 10, 9, 0),\n",
       "  'isPublished': True,\n",
       "  'rating': 5}]"
      ]
     },
     "execution_count": 22,
     "metadata": {},
     "output_type": "execute_result"
    }
   ],
   "source": [
    "# Find courses that have specific tags using $in operator\n",
    "\n",
    "keywords = [\"Web\", \"Python\"]\n",
    "edhub.courses_with_keyword(keywords)"
   ]
  },
  {
   "cell_type": "code",
   "execution_count": 23,
   "id": "fa8d8206",
   "metadata": {},
   "outputs": [
    {
     "data": {
      "text/plain": [
       "[{'_id': ObjectId('684de9e37f70309d70a3e0dc'),\n",
       "  'assignmentId': 'a1',\n",
       "  'courseId': 'c1',\n",
       "  'lessonId': 'l1',\n",
       "  'title': 'JS Quiz 1',\n",
       "  'instructions': 'Complete the quiz.',\n",
       "  'dueDate': datetime.datetime(2025, 6, 17, 21, 30, 12, 802000),\n",
       "  'maxScore': 100,\n",
       "  'createdAt': datetime.datetime(2024, 1, 1, 9, 0),\n",
       "  'updatedAt': datetime.datetime(2024, 1, 2, 9, 0)}]"
      ]
     },
     "execution_count": 23,
     "metadata": {},
     "output_type": "execute_result"
    }
   ],
   "source": [
    "# Retrieve assignments with due dates in the next week\n",
    "assignment_id = \"a1\"\n",
    "\n",
    "# update assignment_id \"a1\" due date to three days from now\n",
    "new_due_date = datetime.now(timezone.utc) + timedelta(days=3)\n",
    "edhub.assignments_col.update_one(\n",
    "    {\"assignmentId\": assignment_id},\n",
    "    {\"$set\": {\"dueDate\": new_due_date}}\n",
    ")\n",
    "\n",
    "# get assignments due in the next week\n",
    "edhub.upcoming_assignment_due_date(upcoming_week=1)"
   ]
  },
  {
   "cell_type": "markdown",
   "id": "62c53bff",
   "metadata": {},
   "source": [
    "#### Course Enrollment Statistics:"
   ]
  },
  {
   "cell_type": "code",
   "execution_count": 24,
   "id": "1c39c8f2",
   "metadata": {},
   "outputs": [
    {
     "data": {
      "text/plain": [
       "[{'totalEnrollments': 2,\n",
       "  'courseId': 'c3',\n",
       "  'courseTitle': 'Web Design Fundamentals'},\n",
       " {'totalEnrollments': 2,\n",
       "  'courseId': 'c5',\n",
       "  'courseTitle': 'Cloud Computing Basics'},\n",
       " {'totalEnrollments': 1, 'courseId': 'c7', 'courseTitle': 'DevOps Essentials'},\n",
       " {'totalEnrollments': 1,\n",
       "  'courseId': 'c8',\n",
       "  'courseTitle': 'Cybersecurity Fundamentals'},\n",
       " {'totalEnrollments': 1,\n",
       "  'courseId': 'c100',\n",
       "  'courseTitle': 'Day hit series require according.'},\n",
       " {'totalEnrollments': 2,\n",
       "  'courseId': 'c4',\n",
       "  'courseTitle': 'Database Management'},\n",
       " {'totalEnrollments': 2, 'courseId': 'c2', 'courseTitle': 'Advanced Python'},\n",
       " {'totalEnrollments': 2,\n",
       "  'courseId': 'c1',\n",
       "  'courseTitle': 'Introduction to JavaScript'},\n",
       " {'totalEnrollments': 2,\n",
       "  'courseId': 'c6',\n",
       "  'courseTitle': 'Mobile App Development'}]"
      ]
     },
     "execution_count": 24,
     "metadata": {},
     "output_type": "execute_result"
    }
   ],
   "source": [
    "# Count total enrollments per course\n",
    "edhub.enrollment_metrics()"
   ]
  },
  {
   "cell_type": "code",
   "execution_count": 25,
   "id": "6d116b33",
   "metadata": {},
   "outputs": [
    {
     "data": {
      "text/plain": [
       "{'averageRating': 3.875, 'count': 9}"
      ]
     },
     "execution_count": 25,
     "metadata": {},
     "output_type": "execute_result"
    }
   ],
   "source": [
    "# Calculate average course rating\n",
    "edhub.average_course_rating()"
   ]
  },
  {
   "cell_type": "code",
   "execution_count": 26,
   "id": "83f53d6f",
   "metadata": {},
   "outputs": [
    {
     "data": {
      "text/plain": [
       "[{'courses': ['Cybersecurity Fundamentals'],\n",
       "  'averageRating': 5.0,\n",
       "  'totalCourses': 1,\n",
       "  'category': 'Security'},\n",
       " {'courses': ['Mobile App Development'],\n",
       "  'averageRating': 4.0,\n",
       "  'totalCourses': 1,\n",
       "  'category': 'Mobile'},\n",
       " {'courses': ['Cloud Computing Basics'],\n",
       "  'averageRating': 2.0,\n",
       "  'totalCourses': 1,\n",
       "  'category': 'Cloud'},\n",
       " {'courses': ['Database Management'],\n",
       "  'averageRating': 5.0,\n",
       "  'totalCourses': 1,\n",
       "  'category': 'Database'},\n",
       " {'courses': ['DevOps Essentials'],\n",
       "  'averageRating': 4.0,\n",
       "  'totalCourses': 1,\n",
       "  'category': 'DevOps'},\n",
       " {'courses': ['Day hit series require according.'],\n",
       "  'averageRating': None,\n",
       "  'totalCourses': 1,\n",
       "  'category': 'Data Engineering'},\n",
       " {'courses': ['Introduction to JavaScript', 'Advanced Python'],\n",
       "  'averageRating': 3.5,\n",
       "  'totalCourses': 2,\n",
       "  'category': 'Programming'},\n",
       " {'courses': ['Web Design Fundamentals'],\n",
       "  'averageRating': 4.0,\n",
       "  'totalCourses': 1,\n",
       "  'category': 'Design'}]"
      ]
     },
     "execution_count": 26,
     "metadata": {},
     "output_type": "execute_result"
    }
   ],
   "source": [
    "# Group by course category\n",
    "edhub.group_course_by_category()"
   ]
  },
  {
   "cell_type": "markdown",
   "id": "3bd0c51d",
   "metadata": {},
   "source": [
    "#### Student Performance Analysis"
   ]
  },
  {
   "cell_type": "code",
   "execution_count": 27,
   "id": "1c526094",
   "metadata": {},
   "outputs": [
    {
     "data": {
      "text/plain": [
       "[{'averageGrade': 93.0,\n",
       "  'submissions': 1,\n",
       "  'studentId': 'u13',\n",
       "  'studentName': 'Mia White'},\n",
       " {'averageGrade': 40.0,\n",
       "  'submissions': 1,\n",
       "  'studentId': 'u1',\n",
       "  'studentName': 'Alice Johnson'},\n",
       " {'averageGrade': 90.0,\n",
       "  'submissions': 1,\n",
       "  'studentId': 'u9',\n",
       "  'studentName': 'Ivy Taylor'},\n",
       " {'averageGrade': 87.0,\n",
       "  'submissions': 1,\n",
       "  'studentId': 'u11',\n",
       "  'studentName': 'Kate Thomas'},\n",
       " {'averageGrade': 85.0,\n",
       "  'submissions': 1,\n",
       "  'studentId': 'u7',\n",
       "  'studentName': 'Grace Wilson'},\n",
       " {'averageGrade': 88.5,\n",
       "  'submissions': 2,\n",
       "  'studentId': 'u5',\n",
       "  'studentName': 'Eve Davis'},\n",
       " {'averageGrade': 89.0,\n",
       "  'submissions': 1,\n",
       "  'studentId': 'u15',\n",
       "  'studentName': 'Oliver Martin'},\n",
       " {'averageGrade': 91.0,\n",
       "  'submissions': 1,\n",
       "  'studentId': 'u17',\n",
       "  'studentName': 'Quinn Lewis'},\n",
       " {'averageGrade': 94.0,\n",
       "  'submissions': 1,\n",
       "  'studentId': 'u19',\n",
       "  'studentName': 'Sam Hall'},\n",
       " {'averageGrade': 84.0,\n",
       "  'submissions': 2,\n",
       "  'studentId': 'u3',\n",
       "  'studentName': 'Carol Lee'}]"
      ]
     },
     "execution_count": 27,
     "metadata": {},
     "output_type": "execute_result"
    }
   ],
   "source": [
    "# Average grade per student\n",
    "edhub.average_grade_per_student()"
   ]
  },
  {
   "cell_type": "code",
   "execution_count": 28,
   "id": "be8802a8",
   "metadata": {},
   "outputs": [
    {
     "data": {
      "text/plain": [
       "[{'courseId': 'c1', 'completionRate': 0.0, 'totalEnrolled': 2},\n",
       " {'courseId': 'c6', 'completionRate': 0.0, 'totalEnrolled': 2},\n",
       " {'courseId': 'c5', 'completionRate': 0.0, 'totalEnrolled': 2},\n",
       " {'courseId': 'c7', 'completionRate': 0.0, 'totalEnrolled': 1},\n",
       " {'courseId': 'c8', 'completionRate': 0.0, 'totalEnrolled': 1},\n",
       " {'courseId': 'c4', 'completionRate': 0.0, 'totalEnrolled': 2},\n",
       " {'courseId': 'c100', 'completionRate': 0.0, 'totalEnrolled': 1},\n",
       " {'courseId': 'c3', 'completionRate': 0.0, 'totalEnrolled': 2},\n",
       " {'courseId': 'c2', 'completionRate': 0.5, 'totalEnrolled': 2}]"
      ]
     },
     "execution_count": 28,
     "metadata": {},
     "output_type": "execute_result"
    }
   ],
   "source": [
    "#  Completion rate by course\n",
    "edhub.course_completion_rate()"
   ]
  },
  {
   "cell_type": "code",
   "execution_count": 29,
   "id": "16041907",
   "metadata": {},
   "outputs": [
    {
     "data": {
      "text/plain": [
       "[{'averageGrade': 94.0,\n",
       "  'submissions': 1,\n",
       "  'studentId': 'u19',\n",
       "  'studentName': 'Sam Hall'},\n",
       " {'averageGrade': 93.0,\n",
       "  'submissions': 1,\n",
       "  'studentId': 'u13',\n",
       "  'studentName': 'Mia White'},\n",
       " {'averageGrade': 91.0,\n",
       "  'submissions': 1,\n",
       "  'studentId': 'u17',\n",
       "  'studentName': 'Quinn Lewis'},\n",
       " {'averageGrade': 90.0,\n",
       "  'submissions': 1,\n",
       "  'studentId': 'u9',\n",
       "  'studentName': 'Ivy Taylor'},\n",
       " {'averageGrade': 89.0,\n",
       "  'submissions': 1,\n",
       "  'studentId': 'u15',\n",
       "  'studentName': 'Oliver Martin'}]"
      ]
     },
     "execution_count": 29,
     "metadata": {},
     "output_type": "execute_result"
    }
   ],
   "source": [
    "# Top-performing students by average grade\n",
    "edhub.top_performing_students()"
   ]
  },
  {
   "cell_type": "markdown",
   "id": "b6b925f3",
   "metadata": {},
   "source": [
    "### Instructor Analytics"
   ]
  },
  {
   "cell_type": "code",
   "execution_count": 30,
   "id": "fa0e027c",
   "metadata": {},
   "outputs": [
    {
     "data": {
      "text/plain": [
       "[{'coursesTaught': ['c2'], 'instructorId': 'u8', 'totalStudents': 2},\n",
       " {'coursesTaught': ['c3'], 'instructorId': 'u14', 'totalStudents': 2},\n",
       " {'coursesTaught': ['c5'], 'instructorId': 'u16', 'totalStudents': 2},\n",
       " {'coursesTaught': ['c8'], 'instructorId': 'u12', 'totalStudents': 1},\n",
       " {'coursesTaught': ['c4'], 'instructorId': 'u10', 'totalStudents': 2},\n",
       " {'coursesTaught': ['c1', 'c100'], 'instructorId': 'u2', 'totalStudents': 3},\n",
       " {'coursesTaught': ['c6'], 'instructorId': 'u18', 'totalStudents': 2},\n",
       " {'coursesTaught': ['c7'], 'instructorId': 'u6', 'totalStudents': 1}]"
      ]
     },
     "execution_count": 30,
     "metadata": {},
     "output_type": "execute_result"
    }
   ],
   "source": [
    "# Total students taught by each instructor\n",
    "edhub.total_student_by_each_instructor()"
   ]
  },
  {
   "cell_type": "code",
   "execution_count": 31,
   "id": "11c73127",
   "metadata": {},
   "outputs": [
    {
     "data": {
      "text/plain": [
       "[{'averageRating': 3.0,\n",
       "  'courses': ['Introduction to JavaScript',\n",
       "   'Day hit series require according.'],\n",
       "  'instructorId': 'u2',\n",
       "  'instructorName': 'Bob Smith'},\n",
       " {'averageRating': 4.0,\n",
       "  'courses': ['Web Design Fundamentals'],\n",
       "  'instructorId': 'u14',\n",
       "  'instructorName': 'Nina Harris'},\n",
       " {'averageRating': 5.0,\n",
       "  'courses': ['Database Management'],\n",
       "  'instructorId': 'u10',\n",
       "  'instructorName': 'Jack Anderson'},\n",
       " {'averageRating': 2.0,\n",
       "  'courses': ['Cloud Computing Basics'],\n",
       "  'instructorId': 'u16',\n",
       "  'instructorName': 'Paul Clark'},\n",
       " {'averageRating': 4.0,\n",
       "  'courses': ['DevOps Essentials'],\n",
       "  'instructorId': 'u6',\n",
       "  'instructorName': 'Frank Miller'},\n",
       " {'averageRating': 4.0,\n",
       "  'courses': ['Mobile App Development'],\n",
       "  'instructorId': 'u18',\n",
       "  'instructorName': 'Rachel Walker'},\n",
       " {'averageRating': 4.0,\n",
       "  'courses': ['Advanced Python'],\n",
       "  'instructorId': 'u8',\n",
       "  'instructorName': 'Henry Moore'},\n",
       " {'averageRating': 5.0,\n",
       "  'courses': ['Cybersecurity Fundamentals'],\n",
       "  'instructorId': 'u12',\n",
       "  'instructorName': 'Leo Jackson'}]"
      ]
     },
     "execution_count": 31,
     "metadata": {},
     "output_type": "execute_result"
    }
   ],
   "source": [
    "# Average course rating per instructor\n",
    "edhub.average_course_rating_per_instructor()"
   ]
  },
  {
   "cell_type": "code",
   "execution_count": 32,
   "id": "2ff80644",
   "metadata": {},
   "outputs": [
    {
     "data": {
      "text/plain": [
       "[{'revenue': 35,\n",
       "  'courses': ['c7'],\n",
       "  'instructorId': 'u6',\n",
       "  'instructorName': 'Frank Miller'},\n",
       " {'revenue': 100,\n",
       "  'courses': ['c2'],\n",
       "  'instructorId': 'u8',\n",
       "  'instructorName': 'Henry Moore'},\n",
       " {'revenue': 40,\n",
       "  'courses': ['c3'],\n",
       "  'instructorId': 'u14',\n",
       "  'instructorName': 'Nina Harris'},\n",
       " {'revenue': 25,\n",
       "  'courses': ['c8'],\n",
       "  'instructorId': 'u12',\n",
       "  'instructorName': 'Leo Jackson'},\n",
       " {'revenue': 60,\n",
       "  'courses': ['c4'],\n",
       "  'instructorId': 'u10',\n",
       "  'instructorName': 'Jack Anderson'},\n",
       " {'revenue': 3758,\n",
       "  'courses': ['c1', 'c100'],\n",
       "  'instructorId': 'u2',\n",
       "  'instructorName': 'Bob Smith'},\n",
       " {'revenue': 80,\n",
       "  'courses': ['c5'],\n",
       "  'instructorId': 'u16',\n",
       "  'instructorName': 'Paul Clark'},\n",
       " {'revenue': 120,\n",
       "  'courses': ['c6'],\n",
       "  'instructorId': 'u18',\n",
       "  'instructorName': 'Rachel Walker'}]"
      ]
     },
     "execution_count": 32,
     "metadata": {},
     "output_type": "execute_result"
    }
   ],
   "source": [
    "# Revenue generated per instructor\n",
    "edhub.revenue_per_instructor()"
   ]
  },
  {
   "cell_type": "markdown",
   "id": "2b355a15",
   "metadata": {},
   "source": [
    "#### Advanced Analytics - 3"
   ]
  },
  {
   "cell_type": "code",
   "execution_count": 33,
   "id": "395c3537",
   "metadata": {},
   "outputs": [
    {
     "data": {
      "text/plain": [
       "[{'totalEnrollments': 1, 'year': 2001, 'month': 7},\n",
       " {'totalEnrollments': 1, 'year': 2024, 'month': 1},\n",
       " {'totalEnrollments': 1, 'year': 2024, 'month': 2},\n",
       " {'totalEnrollments': 1, 'year': 2024, 'month': 3},\n",
       " {'totalEnrollments': 1, 'year': 2024, 'month': 4},\n",
       " {'totalEnrollments': 1, 'year': 2024, 'month': 5},\n",
       " {'totalEnrollments': 9, 'year': 2024, 'month': 6}]"
      ]
     },
     "execution_count": 33,
     "metadata": {},
     "output_type": "execute_result"
    }
   ],
   "source": [
    "# Monthly enrollment trends \n",
    "edhub.montly_enrollment_trend()"
   ]
  },
  {
   "cell_type": "code",
   "execution_count": 34,
   "id": "193c5164",
   "metadata": {},
   "outputs": [
    {
     "data": {
      "text/plain": [
       "[{'totalCourses': 2, 'category': 'Programming'},\n",
       " {'totalCourses': 1, 'category': 'DevOps'},\n",
       " {'totalCourses': 1, 'category': 'Data Engineering'},\n",
       " {'totalCourses': 1, 'category': 'Cloud'},\n",
       " {'totalCourses': 1, 'category': 'Mobile'}]"
      ]
     },
     "execution_count": 34,
     "metadata": {},
     "output_type": "execute_result"
    }
   ],
   "source": [
    "# Most popular course categories\n",
    "edhub.most_popular_course_categories()"
   ]
  },
  {
   "cell_type": "code",
   "execution_count": 35,
   "id": "d86f5c96",
   "metadata": {},
   "outputs": [
    {
     "data": {
      "text/plain": [
       "[{'totalSubmissions': 1,\n",
       "  'averageGrade': 40.0,\n",
       "  'studentId': 'u1',\n",
       "  'studentName': 'Alice Johnson'},\n",
       " {'totalSubmissions': 1,\n",
       "  'averageGrade': 93.0,\n",
       "  'studentId': 'u13',\n",
       "  'studentName': 'Mia White'},\n",
       " {'totalSubmissions': 1,\n",
       "  'averageGrade': 90.0,\n",
       "  'studentId': 'u9',\n",
       "  'studentName': 'Ivy Taylor'},\n",
       " {'totalSubmissions': 1,\n",
       "  'averageGrade': 87.0,\n",
       "  'studentId': 'u11',\n",
       "  'studentName': 'Kate Thomas'},\n",
       " {'totalSubmissions': 1,\n",
       "  'averageGrade': 85.0,\n",
       "  'studentId': 'u7',\n",
       "  'studentName': 'Grace Wilson'},\n",
       " {'totalSubmissions': 2,\n",
       "  'averageGrade': 88.5,\n",
       "  'studentId': 'u5',\n",
       "  'studentName': 'Eve Davis'},\n",
       " {'totalSubmissions': 1,\n",
       "  'averageGrade': 89.0,\n",
       "  'studentId': 'u15',\n",
       "  'studentName': 'Oliver Martin'},\n",
       " {'totalSubmissions': 1,\n",
       "  'averageGrade': 91.0,\n",
       "  'studentId': 'u17',\n",
       "  'studentName': 'Quinn Lewis'},\n",
       " {'totalSubmissions': 1,\n",
       "  'averageGrade': 94.0,\n",
       "  'studentId': 'u19',\n",
       "  'studentName': 'Sam Hall'},\n",
       " {'totalSubmissions': 2,\n",
       "  'averageGrade': 84.0,\n",
       "  'studentId': 'u3',\n",
       "  'studentName': 'Carol Lee'}]"
      ]
     },
     "execution_count": 35,
     "metadata": {},
     "output_type": "execute_result"
    }
   ],
   "source": [
    "# Student engagement metrics (e.g., submissions per student)\n",
    "edhub.student_engagement_metrics()"
   ]
  },
  {
   "cell_type": "markdown",
   "id": "c87b5aea",
   "metadata": {},
   "source": []
  },
  {
   "cell_type": "markdown",
   "id": "fe822a44",
   "metadata": {},
   "source": [
    "## Part 5: Indexing and Performance"
   ]
  },
  {
   "cell_type": "code",
   "execution_count": 45,
   "id": "6c85fc92",
   "metadata": {},
   "outputs": [
    {
     "name": "stdout",
     "output_type": "stream",
     "text": [
      "Time without index: 0.0011 seconds\n",
      "Winning plan (no index): COLLSCAN\n",
      "Time with index: 0.0019 seconds\n",
      "Winning plan (with index): FETCH\n",
      "Time with index and projection: 0.0008 seconds\n",
      "Winning plan (projection): PROJECTION_SIMPLE\n"
     ]
    }
   ],
   "source": [
    "import time\n",
    "\n",
    "# SLOW QUERY: Case-insensitive regex search on lastName (no index)\n",
    "query = {\"lastName\": {\"$regex\": \"son\", \"$options\": \"i\"}}\n",
    "\n",
    "# Drop index if it exists to simulate base query\n",
    "try:\n",
    "    edhub.users_col.drop_index(\"lastName_1\")\n",
    "except Exception:\n",
    "    pass  # Ignore if index doesn't exist\n",
    "\n",
    "# Run query without index\n",
    "start = time.time()\n",
    "explain_no_index = edhub.users_col.find(query).explain()\n",
    "end = time.time()\n",
    "print(\"Time without index: {:.4f} seconds\".format(end - start))\n",
    "print(\"Winning plan (no index):\", explain_no_index[\"queryPlanner\"][\"winningPlan\"][\"stage\"])\n",
    "\n",
    "# Create index on lastName\n",
    "edhub.users_col.create_index([(\"lastName\", 1)])\n",
    "\n",
    "# Run query with index\n",
    "start = time.time()\n",
    "explain_with_index = edhub.users_col.find(query).explain()\n",
    "end = time.time()\n",
    "print(\"Time with index: {:.4f} seconds\".format(end - start))\n",
    "print(\"Winning plan (with index):\", explain_with_index[\"queryPlanner\"][\"winningPlan\"][\"stage\"])\n",
    "\n",
    "# Use projection to return only userId and lastName\n",
    "start = time.time()\n",
    "explain_projection = edhub.users_col.find(query, {\"userId\": 1, \"lastName\": 1, \"_id\": 0}).explain()\n",
    "end = time.time()\n",
    "print(\"Time with index and projection: {:.4f} seconds\".format(end - start))\n",
    "print(\"Winning plan (projection):\", explain_projection[\"queryPlanner\"][\"winningPlan\"][\"stage\"])"
   ]
  },
  {
   "cell_type": "code",
   "execution_count": null,
   "id": "8838926f",
   "metadata": {},
   "outputs": [],
   "source": []
  }
 ],
 "metadata": {
  "kernelspec": {
   "display_name": "venv",
   "language": "python",
   "name": "python3"
  },
  "language_info": {
   "codemirror_mode": {
    "name": "ipython",
    "version": 3
   },
   "file_extension": ".py",
   "mimetype": "text/x-python",
   "name": "python",
   "nbconvert_exporter": "python",
   "pygments_lexer": "ipython3",
   "version": "3.13.3"
  }
 },
 "nbformat": 4,
 "nbformat_minor": 5
}
