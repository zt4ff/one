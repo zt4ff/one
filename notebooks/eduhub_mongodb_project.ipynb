{
 "cells": [
  {
   "cell_type": "code",
   "execution_count": 85,
   "id": "6b84d286",
   "metadata": {},
   "outputs": [],
   "source": [
    "import os\n",
    "import sys\n",
    "module_path = os.path.abspath(os.path.join(\"..\", \"src\"))\n",
    "sys.path.insert(0, str(module_path))\n",
    "from eduhub_queries import EdHubDB\n"
   ]
  },
  {
   "cell_type": "code",
   "execution_count": 86,
   "id": "72ce0dc7",
   "metadata": {},
   "outputs": [
    {
     "name": "stdout",
     "output_type": "stream",
     "text": [
      "Created collection: users\n",
      "Created collection: courses\n",
      "Created collection: lessons\n",
      "Created collection: assignments\n",
      "Created collection: enrollments\n",
      "Created collection: submissions\n"
     ]
    }
   ],
   "source": [
    "# Part 1\n",
    "\n",
    "edhub = EdHubDB()\n",
    "edhub.build_collection()"
   ]
  },
  {
   "cell_type": "code",
   "execution_count": 87,
   "id": "cafb117a",
   "metadata": {},
   "outputs": [
    {
     "name": "stdout",
     "output_type": "stream",
     "text": [
      "Seeded 20 documents into 'users' collection.\n",
      "Seeded 8 documents into 'courses' collection.\n",
      "Seeded 15 documents into 'enrollments' collection.\n",
      "Seeded 15 documents into 'lessons' collection.\n",
      "Seeded 10 documents into 'assignments' collection.\n",
      "Seeded 12 documents into 'submissions' collection.\n"
     ]
    }
   ],
   "source": [
    "# Part 2\n",
    "edhub.seed_database()"
   ]
  },
  {
   "cell_type": "markdown",
   "id": "8aff137e",
   "metadata": {},
   "source": [
    "## Part 3 - Basic CRUD Operations\n",
    "###  Create Operations"
   ]
  },
  {
   "cell_type": "code",
   "execution_count": 88,
   "id": "69caae0a",
   "metadata": {},
   "outputs": [
    {
     "data": {
      "text/plain": [
       "{'_id': ObjectId('684da2ca2dbbd81840fbad21'),\n",
       " 'userId': 'u100',\n",
       " 'email': 'framsey@example.org',\n",
       " 'firstName': 'Steven',\n",
       " 'lastName': 'Dixon',\n",
       " 'role': 'student',\n",
       " 'dateJoined': datetime.datetime(2024, 10, 22, 13, 22, 18, 568000),\n",
       " 'profile': {'bio': 'It leave market like reality else participant.',\n",
       "  'avatar': 'https://dummyimage.com/234x864',\n",
       "  'skills': ['Machine Learning', 'Cloud Computing', 'Kubernetes']},\n",
       " 'is_active': False}"
      ]
     },
     "execution_count": 88,
     "metadata": {},
     "output_type": "execute_result"
    }
   ],
   "source": [
    "# insert user\n",
    "\n",
    "user_id = \"u100\"\n",
    "edhub.insert_student(edhub.helper.make_user(user_id))\n",
    "\n",
    "# verify user is inserted\n",
    "edhub.users_col.find_one({\"userId\": user_id})"
   ]
  },
  {
   "cell_type": "code",
   "execution_count": 89,
   "id": "f08bd893",
   "metadata": {},
   "outputs": [
    {
     "data": {
      "text/plain": [
       "{'_id': ObjectId('684da2ca2dbbd81840fbad22'),\n",
       " 'courseId': 'c100',\n",
       " 'title': 'Radio certainly art return human yard.',\n",
       " 'description': 'Out increase claim already outside if. Land single need subject throw ball. Stuff minute fight act level.',\n",
       " 'instructorId': 'u2',\n",
       " 'category': 'JavaScript',\n",
       " 'level': 'intermediate',\n",
       " 'duration': 24,\n",
       " 'price': 8051,\n",
       " 'tags': ['MongoDB', 'Data Engineering'],\n",
       " 'createdAt': datetime.datetime(2023, 4, 20, 5, 37, 18, 635000),\n",
       " 'updatedAt': datetime.datetime(2025, 2, 13, 3, 57, 21, 36000),\n",
       " 'isPublished': False}"
      ]
     },
     "execution_count": 89,
     "metadata": {},
     "output_type": "execute_result"
    }
   ],
   "source": [
    "# insert course\n",
    "course_id = \"c100\"\n",
    "user_id = \"u2\" # role is instructor\n",
    "edhub.insert_course(edhub.helper.make_course(course_id=course_id, instructor_id=user_id))\n",
    "\n",
    "# verify course is inserted\n",
    "edhub.courses_col.find_one({\"courseId\": course_id})"
   ]
  },
  {
   "cell_type": "code",
   "execution_count": 90,
   "id": "b3ed78fd",
   "metadata": {},
   "outputs": [
    {
     "name": "stdout",
     "output_type": "stream",
     "text": [
      "684da2ca2dbbd81840fbad23\n"
     ]
    },
    {
     "data": {
      "text/plain": [
       "{'_id': ObjectId('684da2ca2dbbd81840fbad23'),\n",
       " 'enrollmentId': 'e16',\n",
       " 'studentId': 'u100',\n",
       " 'courseId': 'c100',\n",
       " 'enrollmentDate': datetime.datetime(2012, 12, 12, 21, 13, 15, 199000),\n",
       " 'progress': 0.0,\n",
       " 'completed': False,\n",
       " 'certificateIssued': False}"
      ]
     },
     "execution_count": 90,
     "metadata": {},
     "output_type": "execute_result"
    }
   ],
   "source": [
    "# Enroll a student into a course\n",
    "user_id = \"u100\" # existing user that's a student\n",
    "course_id = \"c100\" # existing course\n",
    "\n",
    "inserted_id = edhub.register_student(student_id=user_id, course_id=course_id)\n",
    "\n",
    "# verify enrollment is created\n",
    "print(inserted_id)\n",
    "edhub.enrollments_col.find_one({\"_id\": inserted_id})"
   ]
  },
  {
   "cell_type": "code",
   "execution_count": 91,
   "id": "15bbda8e",
   "metadata": {},
   "outputs": [
    {
     "data": {
      "text/plain": [
       "{'_id': ObjectId('684da2ca2dbbd81840fbad24'),\n",
       " 'lessonId': 'l100',\n",
       " 'courseId': 'c100',\n",
       " 'title': 'Hospital time while level me sometimes.',\n",
       " 'content': 'Chance indicate most across unit. Performance evening provide sing. Read party impact. Policy kid what experience spend operation who. Sea increase yeah move.',\n",
       " 'order': 69,\n",
       " 'resources': ['intro.pdf'],\n",
       " 'duration': 30,\n",
       " 'createdAt': datetime.datetime(2022, 10, 30, 5, 25, 0, 477000),\n",
       " 'updatedAt': datetime.datetime(2024, 7, 10, 21, 9, 10, 140000)}"
      ]
     },
     "execution_count": 91,
     "metadata": {},
     "output_type": "execute_result"
    }
   ],
   "source": [
    "# Add a new lesson to an existing course\n",
    "course_id = \"c100\" # existing course\n",
    "lesson_id = \"l100\"\n",
    "\n",
    "edhub.insert_lesson(edhub.helper.make_lesson(lesson_id=lesson_id, course_id=course_id))\n",
    "\n",
    "# verify lesson is created\n",
    "edhub.lessons_col.find_one({\"lessonId\": lesson_id})"
   ]
  },
  {
   "cell_type": "markdown",
   "id": "7a3ed664",
   "metadata": {},
   "source": [
    "### Read Operations"
   ]
  },
  {
   "cell_type": "code",
   "execution_count": 92,
   "id": "2a9244c6",
   "metadata": {},
   "outputs": [
    {
     "data": {
      "text/plain": [
       "[{'_id': ObjectId('684da2ca2dbbd81840fbacd1'),\n",
       "  'userId': 'u1',\n",
       "  'email': 'alice.student@example.com',\n",
       "  'firstName': 'Alice',\n",
       "  'lastName': 'Johnson',\n",
       "  'role': 'student',\n",
       "  'dateJoined': datetime.datetime(2024, 1, 10, 9, 0),\n",
       "  'profile': {'bio': 'Aspiring developer.',\n",
       "   'avatar': 'alice.jpg',\n",
       "   'skills': ['JavaScript', 'HTML']},\n",
       "  'isActive': True},\n",
       " {'_id': ObjectId('684da2ca2dbbd81840fbacd3'),\n",
       "  'userId': 'u3',\n",
       "  'email': 'carol.student@example.com',\n",
       "  'firstName': 'Carol',\n",
       "  'lastName': 'Lee',\n",
       "  'role': 'student',\n",
       "  'dateJoined': datetime.datetime(2024, 2, 1, 11, 0),\n",
       "  'profile': {'bio': 'Interested in data science.',\n",
       "   'avatar': 'carol.jpg',\n",
       "   'skills': ['Python', 'Pandas']},\n",
       "  'isActive': True},\n",
       " {'_id': ObjectId('684da2ca2dbbd81840fbacd5'),\n",
       "  'userId': 'u5',\n",
       "  'email': 'eve.student@example.com',\n",
       "  'firstName': 'Eve',\n",
       "  'lastName': 'Davis',\n",
       "  'role': 'student',\n",
       "  'dateJoined': datetime.datetime(2024, 3, 5, 13, 0),\n",
       "  'profile': {'bio': 'Frontend enthusiast.',\n",
       "   'avatar': 'eve.jpg',\n",
       "   'skills': ['CSS', 'React']},\n",
       "  'isActive': True},\n",
       " {'_id': ObjectId('684da2ca2dbbd81840fbacd7'),\n",
       "  'userId': 'u7',\n",
       "  'email': 'grace.student@example.com',\n",
       "  'firstName': 'Grace',\n",
       "  'lastName': 'Wilson',\n",
       "  'role': 'student',\n",
       "  'dateJoined': datetime.datetime(2024, 4, 12, 15, 0),\n",
       "  'profile': {'bio': 'Learning cloud computing.',\n",
       "   'avatar': 'grace.jpg',\n",
       "   'skills': ['AWS', 'Azure']},\n",
       "  'isActive': True},\n",
       " {'_id': ObjectId('684da2ca2dbbd81840fbacd9'),\n",
       "  'userId': 'u9',\n",
       "  'email': 'ivy.student@example.com',\n",
       "  'firstName': 'Ivy',\n",
       "  'lastName': 'Taylor',\n",
       "  'role': 'student',\n",
       "  'dateJoined': datetime.datetime(2024, 5, 20, 17, 0),\n",
       "  'profile': {'bio': 'Interested in mobile apps.',\n",
       "   'avatar': 'ivy.jpg',\n",
       "   'skills': ['Flutter', 'Dart']},\n",
       "  'isActive': True},\n",
       " {'_id': ObjectId('684da2ca2dbbd81840fbacdb'),\n",
       "  'userId': 'u11',\n",
       "  'email': 'kate.student@example.com',\n",
       "  'firstName': 'Kate',\n",
       "  'lastName': 'Thomas',\n",
       "  'role': 'student',\n",
       "  'dateJoined': datetime.datetime(2024, 6, 1, 19, 0),\n",
       "  'profile': {'bio': 'Learning programming.',\n",
       "   'avatar': 'kate.jpg',\n",
       "   'skills': ['C++', 'Python']},\n",
       "  'isActive': True},\n",
       " {'_id': ObjectId('684da2ca2dbbd81840fbacdd'),\n",
       "  'userId': 'u13',\n",
       "  'email': 'mia.student@example.com',\n",
       "  'firstName': 'Mia',\n",
       "  'lastName': 'White',\n",
       "  'role': 'student',\n",
       "  'dateJoined': datetime.datetime(2024, 6, 5, 21, 0),\n",
       "  'profile': {'bio': 'Interested in AI.',\n",
       "   'avatar': 'mia.jpg',\n",
       "   'skills': ['Python', 'ML']},\n",
       "  'isActive': True},\n",
       " {'_id': ObjectId('684da2ca2dbbd81840fbacdf'),\n",
       "  'userId': 'u15',\n",
       "  'email': 'oliver.student@example.com',\n",
       "  'firstName': 'Oliver',\n",
       "  'lastName': 'Martin',\n",
       "  'role': 'student',\n",
       "  'dateJoined': datetime.datetime(2024, 6, 10, 23, 0),\n",
       "  'profile': {'bio': 'Learning backend.',\n",
       "   'avatar': 'oliver.jpg',\n",
       "   'skills': ['Node.js', 'Express']},\n",
       "  'isActive': True},\n",
       " {'_id': ObjectId('684da2ca2dbbd81840fbace1'),\n",
       "  'userId': 'u17',\n",
       "  'email': 'quinn.student@example.com',\n",
       "  'firstName': 'Quinn',\n",
       "  'lastName': 'Lewis',\n",
       "  'role': 'student',\n",
       "  'dateJoined': datetime.datetime(2024, 6, 11, 9, 0),\n",
       "  'profile': {'bio': 'Interested in DevOps.',\n",
       "   'avatar': 'quinn.jpg',\n",
       "   'skills': ['Docker', 'CI/CD']},\n",
       "  'isActive': True},\n",
       " {'_id': ObjectId('684da2ca2dbbd81840fbace3'),\n",
       "  'userId': 'u19',\n",
       "  'email': 'sam.student@example.com',\n",
       "  'firstName': 'Sam',\n",
       "  'lastName': 'Hall',\n",
       "  'role': 'student',\n",
       "  'dateJoined': datetime.datetime(2024, 6, 12, 11, 0),\n",
       "  'profile': {'bio': 'Learning databases.',\n",
       "   'avatar': 'sam.jpg',\n",
       "   'skills': ['SQL', 'MongoDB']},\n",
       "  'isActive': True}]"
      ]
     },
     "execution_count": 92,
     "metadata": {},
     "output_type": "execute_result"
    }
   ],
   "source": [
    "# Find all active students\n",
    "edhub.get_active_students()"
   ]
  },
  {
   "cell_type": "code",
   "execution_count": 93,
   "id": "6696a01a",
   "metadata": {},
   "outputs": [
    {
     "data": {
      "text/plain": [
       "[{'_id': ObjectId('684da2ca2dbbd81840fbace5'),\n",
       "  'courseId': 'c1',\n",
       "  'title': 'Introduction to JavaScript',\n",
       "  'description': 'Learn the basics of JavaScript.',\n",
       "  'instructorId': 'u2',\n",
       "  'category': 'Programming',\n",
       "  'level': 'beginner',\n",
       "  'duration': 10,\n",
       "  'price': 0,\n",
       "  'tags': ['JavaScript', 'Web'],\n",
       "  'createdAt': datetime.datetime(2024, 1, 1, 9, 0),\n",
       "  'updatedAt': datetime.datetime(2024, 1, 10, 9, 0),\n",
       "  'isPublished': False,\n",
       "  'instructor': {'_id': ObjectId('684da2ca2dbbd81840fbacd2'),\n",
       "   'userId': 'u2',\n",
       "   'email': 'bob.instructor@example.com',\n",
       "   'firstName': 'Bob',\n",
       "   'lastName': 'Smith',\n",
       "   'role': 'instructor',\n",
       "   'dateJoined': datetime.datetime(2023, 12, 15, 10, 0),\n",
       "   'profile': {'bio': 'Full-stack instructor.',\n",
       "    'avatar': 'bob.jpg',\n",
       "    'skills': ['Node.js', 'MongoDB']},\n",
       "   'isActive': True}},\n",
       " {'_id': ObjectId('684da2ca2dbbd81840fbace6'),\n",
       "  'courseId': 'c2',\n",
       "  'title': 'Advanced Python',\n",
       "  'description': 'Deep dive into Python.',\n",
       "  'instructorId': 'u8',\n",
       "  'category': 'Programming',\n",
       "  'level': 'advanced',\n",
       "  'duration': 20,\n",
       "  'price': 50,\n",
       "  'tags': ['Python', 'Advanced'],\n",
       "  'createdAt': datetime.datetime(2024, 2, 1, 9, 0),\n",
       "  'updatedAt': datetime.datetime(2024, 2, 10, 9, 0),\n",
       "  'isPublished': True,\n",
       "  'instructor': {'_id': ObjectId('684da2ca2dbbd81840fbacd8'),\n",
       "   'userId': 'u8',\n",
       "   'email': 'henry.instructor@example.com',\n",
       "   'firstName': 'Henry',\n",
       "   'lastName': 'Moore',\n",
       "   'role': 'instructor',\n",
       "   'dateJoined': datetime.datetime(2023, 9, 18, 16, 0),\n",
       "   'profile': {'bio': 'AI/ML instructor.',\n",
       "    'avatar': 'henry.jpg',\n",
       "    'skills': ['TensorFlow', 'PyTorch']},\n",
       "   'isActive': True}},\n",
       " {'_id': ObjectId('684da2ca2dbbd81840fbace7'),\n",
       "  'courseId': 'c3',\n",
       "  'title': 'Web Design Fundamentals',\n",
       "  'description': 'Basics of web design.',\n",
       "  'instructorId': 'u14',\n",
       "  'category': 'Design',\n",
       "  'level': 'beginner',\n",
       "  'duration': 8,\n",
       "  'price': 20,\n",
       "  'tags': ['Design', 'UI/UX'],\n",
       "  'createdAt': datetime.datetime(2024, 3, 1, 9, 0),\n",
       "  'updatedAt': datetime.datetime(2024, 3, 10, 9, 0),\n",
       "  'isPublished': True,\n",
       "  'instructor': {'_id': ObjectId('684da2ca2dbbd81840fbacde'),\n",
       "   'userId': 'u14',\n",
       "   'email': 'nina.instructor@example.com',\n",
       "   'firstName': 'Nina',\n",
       "   'lastName': 'Harris',\n",
       "   'role': 'instructor',\n",
       "   'dateJoined': datetime.datetime(2023, 6, 15, 22, 0),\n",
       "   'profile': {'bio': 'UI/UX designer.',\n",
       "    'avatar': 'nina.jpg',\n",
       "    'skills': ['Figma', 'Sketch']},\n",
       "   'isActive': True}},\n",
       " {'_id': ObjectId('684da2ca2dbbd81840fbace8'),\n",
       "  'courseId': 'c4',\n",
       "  'title': 'Database Management',\n",
       "  'description': 'Learn about databases.',\n",
       "  'instructorId': 'u10',\n",
       "  'category': 'Database',\n",
       "  'level': 'intermediate',\n",
       "  'duration': 12,\n",
       "  'price': 30,\n",
       "  'tags': ['Database', 'SQL', 'MongoDB'],\n",
       "  'createdAt': datetime.datetime(2024, 4, 1, 9, 0),\n",
       "  'updatedAt': datetime.datetime(2024, 4, 10, 9, 0),\n",
       "  'isPublished': True,\n",
       "  'instructor': {'_id': ObjectId('684da2ca2dbbd81840fbacda'),\n",
       "   'userId': 'u10',\n",
       "   'email': 'jack.instructor@example.com',\n",
       "   'firstName': 'Jack',\n",
       "   'lastName': 'Anderson',\n",
       "   'role': 'instructor',\n",
       "   'dateJoined': datetime.datetime(2023, 8, 22, 18, 0),\n",
       "   'profile': {'bio': 'Database expert.',\n",
       "    'avatar': 'jack.jpg',\n",
       "    'skills': ['MongoDB', 'SQL']},\n",
       "   'isActive': True}},\n",
       " {'_id': ObjectId('684da2ca2dbbd81840fbace9'),\n",
       "  'courseId': 'c5',\n",
       "  'title': 'Cloud Computing Basics',\n",
       "  'description': 'Introduction to cloud platforms.',\n",
       "  'instructorId': 'u16',\n",
       "  'category': 'Cloud',\n",
       "  'level': 'beginner',\n",
       "  'duration': 15,\n",
       "  'price': 40,\n",
       "  'tags': ['Cloud', 'AWS', 'GCP'],\n",
       "  'createdAt': datetime.datetime(2024, 5, 1, 9, 0),\n",
       "  'updatedAt': datetime.datetime(2024, 5, 10, 9, 0),\n",
       "  'isPublished': True,\n",
       "  'instructor': {'_id': ObjectId('684da2ca2dbbd81840fbace0'),\n",
       "   'userId': 'u16',\n",
       "   'email': 'paul.instructor@example.com',\n",
       "   'firstName': 'Paul',\n",
       "   'lastName': 'Clark',\n",
       "   'role': 'instructor',\n",
       "   'dateJoined': datetime.datetime(2023, 5, 12, 8, 0),\n",
       "   'profile': {'bio': 'Cloud architect.',\n",
       "    'avatar': 'paul.jpg',\n",
       "    'skills': ['AWS', 'GCP']},\n",
       "   'isActive': True}},\n",
       " {'_id': ObjectId('684da2ca2dbbd81840fbacea'),\n",
       "  'courseId': 'c6',\n",
       "  'title': 'Mobile App Development',\n",
       "  'description': 'Build mobile apps.',\n",
       "  'instructorId': 'u18',\n",
       "  'category': 'Mobile',\n",
       "  'level': 'intermediate',\n",
       "  'duration': 18,\n",
       "  'price': 60,\n",
       "  'tags': ['Mobile', 'Flutter'],\n",
       "  'createdAt': datetime.datetime(2024, 6, 1, 9, 0),\n",
       "  'updatedAt': datetime.datetime(2024, 6, 10, 9, 0),\n",
       "  'isPublished': True,\n",
       "  'instructor': {'_id': ObjectId('684da2ca2dbbd81840fbace2'),\n",
       "   'userId': 'u18',\n",
       "   'email': 'rachel.instructor@example.com',\n",
       "   'firstName': 'Rachel',\n",
       "   'lastName': 'Walker',\n",
       "   'role': 'instructor',\n",
       "   'dateJoined': datetime.datetime(2023, 4, 10, 10, 0),\n",
       "   'profile': {'bio': 'Mobile app developer.',\n",
       "    'avatar': 'rachel.jpg',\n",
       "    'skills': ['Flutter', 'Swift']},\n",
       "   'isActive': True}},\n",
       " {'_id': ObjectId('684da2ca2dbbd81840fbaceb'),\n",
       "  'courseId': 'c7',\n",
       "  'title': 'DevOps Essentials',\n",
       "  'description': 'Learn DevOps tools.',\n",
       "  'instructorId': 'u6',\n",
       "  'category': 'DevOps',\n",
       "  'level': 'intermediate',\n",
       "  'duration': 14,\n",
       "  'price': 35,\n",
       "  'tags': ['DevOps', 'Docker'],\n",
       "  'createdAt': datetime.datetime(2024, 7, 1, 9, 0),\n",
       "  'updatedAt': datetime.datetime(2024, 7, 10, 9, 0),\n",
       "  'isPublished': True,\n",
       "  'instructor': {'_id': ObjectId('684da2ca2dbbd81840fbacd6'),\n",
       "   'userId': 'u6',\n",
       "   'email': 'frank.instructor@example.com',\n",
       "   'firstName': 'Frank',\n",
       "   'lastName': 'Miller',\n",
       "   'role': 'instructor',\n",
       "   'dateJoined': datetime.datetime(2023, 10, 10, 14, 0),\n",
       "   'profile': {'bio': 'DevOps engineer.',\n",
       "    'avatar': 'frank.jpg',\n",
       "    'skills': ['Docker', 'Kubernetes']},\n",
       "   'isActive': True}},\n",
       " {'_id': ObjectId('684da2ca2dbbd81840fbacec'),\n",
       "  'courseId': 'c8',\n",
       "  'title': 'Cybersecurity Fundamentals',\n",
       "  'description': 'Basics of cybersecurity.',\n",
       "  'instructorId': 'u12',\n",
       "  'category': 'Security',\n",
       "  'level': 'beginner',\n",
       "  'duration': 9,\n",
       "  'price': 25,\n",
       "  'tags': ['Security', 'Linux'],\n",
       "  'createdAt': datetime.datetime(2024, 8, 1, 9, 0),\n",
       "  'updatedAt': datetime.datetime(2024, 8, 10, 9, 0),\n",
       "  'isPublished': True,\n",
       "  'instructor': {'_id': ObjectId('684da2ca2dbbd81840fbacdc'),\n",
       "   'userId': 'u12',\n",
       "   'email': 'leo.instructor@example.com',\n",
       "   'firstName': 'Leo',\n",
       "   'lastName': 'Jackson',\n",
       "   'role': 'instructor',\n",
       "   'dateJoined': datetime.datetime(2023, 7, 30, 20, 0),\n",
       "   'profile': {'bio': 'Cybersecurity instructor.',\n",
       "    'avatar': 'leo.jpg',\n",
       "    'skills': ['Security', 'Linux']},\n",
       "   'isActive': True}},\n",
       " {'_id': ObjectId('684da2ca2dbbd81840fbad22'),\n",
       "  'courseId': 'c100',\n",
       "  'title': 'Radio certainly art return human yard.',\n",
       "  'description': 'Out increase claim already outside if. Land single need subject throw ball. Stuff minute fight act level.',\n",
       "  'instructorId': 'u2',\n",
       "  'category': 'JavaScript',\n",
       "  'level': 'intermediate',\n",
       "  'duration': 24,\n",
       "  'price': 8051,\n",
       "  'tags': ['MongoDB', 'Data Engineering'],\n",
       "  'createdAt': datetime.datetime(2023, 4, 20, 5, 37, 18, 635000),\n",
       "  'updatedAt': datetime.datetime(2025, 2, 13, 3, 57, 21, 36000),\n",
       "  'isPublished': False,\n",
       "  'instructor': {'_id': ObjectId('684da2ca2dbbd81840fbacd2'),\n",
       "   'userId': 'u2',\n",
       "   'email': 'bob.instructor@example.com',\n",
       "   'firstName': 'Bob',\n",
       "   'lastName': 'Smith',\n",
       "   'role': 'instructor',\n",
       "   'dateJoined': datetime.datetime(2023, 12, 15, 10, 0),\n",
       "   'profile': {'bio': 'Full-stack instructor.',\n",
       "    'avatar': 'bob.jpg',\n",
       "    'skills': ['Node.js', 'MongoDB']},\n",
       "   'isActive': True}}]"
      ]
     },
     "execution_count": 93,
     "metadata": {},
     "output_type": "execute_result"
    }
   ],
   "source": [
    "# Retrieve course details with instructor information\n",
    "edhub.get_course_details()"
   ]
  },
  {
   "cell_type": "code",
   "execution_count": 94,
   "id": "678304f2",
   "metadata": {},
   "outputs": [
    {
     "data": {
      "text/plain": [
       "[{'_id': ObjectId('684da2ca2dbbd81840fbace5'),\n",
       "  'courseId': 'c1',\n",
       "  'title': 'Introduction to JavaScript',\n",
       "  'description': 'Learn the basics of JavaScript.',\n",
       "  'instructorId': 'u2',\n",
       "  'category': 'Programming',\n",
       "  'level': 'beginner',\n",
       "  'duration': 10,\n",
       "  'price': 0,\n",
       "  'tags': ['JavaScript', 'Web'],\n",
       "  'createdAt': datetime.datetime(2024, 1, 1, 9, 0),\n",
       "  'updatedAt': datetime.datetime(2024, 1, 10, 9, 0),\n",
       "  'isPublished': False},\n",
       " {'_id': ObjectId('684da2ca2dbbd81840fbace6'),\n",
       "  'courseId': 'c2',\n",
       "  'title': 'Advanced Python',\n",
       "  'description': 'Deep dive into Python.',\n",
       "  'instructorId': 'u8',\n",
       "  'category': 'Programming',\n",
       "  'level': 'advanced',\n",
       "  'duration': 20,\n",
       "  'price': 50,\n",
       "  'tags': ['Python', 'Advanced'],\n",
       "  'createdAt': datetime.datetime(2024, 2, 1, 9, 0),\n",
       "  'updatedAt': datetime.datetime(2024, 2, 10, 9, 0),\n",
       "  'isPublished': True}]"
      ]
     },
     "execution_count": 94,
     "metadata": {},
     "output_type": "execute_result"
    }
   ],
   "source": [
    "# Get all courses in a specific category\n",
    "edhub.get_courses_by_category(\"Programming\")"
   ]
  },
  {
   "cell_type": "code",
   "execution_count": 95,
   "id": "dc57e395",
   "metadata": {},
   "outputs": [
    {
     "data": {
      "text/plain": [
       "[{'_id': ObjectId('684da2ca2dbbd81840fbacd1'),\n",
       "  'userId': 'u1',\n",
       "  'email': 'alice.student@example.com',\n",
       "  'firstName': 'Alice',\n",
       "  'lastName': 'Johnson',\n",
       "  'role': 'student',\n",
       "  'dateJoined': datetime.datetime(2024, 1, 10, 9, 0),\n",
       "  'profile': {'bio': 'Aspiring developer.',\n",
       "   'avatar': 'alice.jpg',\n",
       "   'skills': ['JavaScript', 'HTML']},\n",
       "  'isActive': True},\n",
       " {'_id': ObjectId('684da2ca2dbbd81840fbace1'),\n",
       "  'userId': 'u17',\n",
       "  'email': 'quinn.student@example.com',\n",
       "  'firstName': 'Quinn',\n",
       "  'lastName': 'Lewis',\n",
       "  'role': 'student',\n",
       "  'dateJoined': datetime.datetime(2024, 6, 11, 9, 0),\n",
       "  'profile': {'bio': 'Interested in DevOps.',\n",
       "   'avatar': 'quinn.jpg',\n",
       "   'skills': ['Docker', 'CI/CD']},\n",
       "  'isActive': True}]"
      ]
     },
     "execution_count": 95,
     "metadata": {},
     "output_type": "execute_result"
    }
   ],
   "source": [
    "# Find students enrolled in a particular course\n",
    "course_id = \"c1\"\n",
    "edhub.get_student_enrolled_to_course(course_id=course_id)"
   ]
  },
  {
   "cell_type": "code",
   "execution_count": 96,
   "id": "f1efb03c",
   "metadata": {},
   "outputs": [
    {
     "data": {
      "text/plain": [
       "[{'_id': ObjectId('684da2ca2dbbd81840fbace6'),\n",
       "  'courseId': 'c2',\n",
       "  'title': 'Advanced Python',\n",
       "  'description': 'Deep dive into Python.',\n",
       "  'instructorId': 'u8',\n",
       "  'category': 'Programming',\n",
       "  'level': 'advanced',\n",
       "  'duration': 20,\n",
       "  'price': 50,\n",
       "  'tags': ['Python', 'Advanced'],\n",
       "  'createdAt': datetime.datetime(2024, 2, 1, 9, 0),\n",
       "  'updatedAt': datetime.datetime(2024, 2, 10, 9, 0),\n",
       "  'isPublished': True}]"
      ]
     },
     "execution_count": 96,
     "metadata": {},
     "output_type": "execute_result"
    }
   ],
   "source": [
    "# Search courses by title (case-insensitive, partial match)\n",
    "partial_title = \"py\"\n",
    "\n",
    "edhub.search_courses_by_title(partial_title)"
   ]
  },
  {
   "cell_type": "markdown",
   "id": "88bfb57f",
   "metadata": {},
   "source": [
    "### Update Operations"
   ]
  },
  {
   "cell_type": "code",
   "execution_count": 97,
   "id": "6c4d1b7b",
   "metadata": {},
   "outputs": [
    {
     "name": "stdout",
     "output_type": "stream",
     "text": [
      "Original:  {'bio': 'Aspiring developer.', 'avatar': 'alice.jpg', 'skills': ['JavaScript', 'HTML']}\n",
      "Updated:  {'bio': 'Software engineer', 'avatar': 'alice.png', 'skills': ['Ruby', 'Go']}\n"
     ]
    }
   ],
   "source": [
    "# Update a user’s profile information\n",
    "user_id = \"u1\"\n",
    "\n",
    "user = edhub.users_col.find_one({\"userId\": user_id})\n",
    "\n",
    "print(\"Original: \", user[\"profile\"])\n",
    "\n",
    "profile = {\n",
    "    \"bio\": \"Software engineer\",\n",
    "    \"avatar\": \"alice.png\",\n",
    "    \"skills\": [\"Ruby\", \"Go\"]\n",
    "}\n",
    "\n",
    "edhub.modify_profile(user_id=user_id, updates=profile)\n",
    "\n",
    "user = edhub.users_col.find_one({\"userId\": user_id})\n",
    "\n",
    "print(\"Updated: \", user[\"profile\"])"
   ]
  },
  {
   "cell_type": "code",
   "execution_count": null,
   "id": "2901f420",
   "metadata": {},
   "outputs": [
    {
     "name": "stdout",
     "output_type": "stream",
     "text": [
      "Original:  False\n",
      "Updated:  True\n"
     ]
    }
   ],
   "source": [
    "# Mark a course as published\n",
    "course_id = \"c1\"\n",
    "\n",
    "course = edhub.courses_col.find_one({\"courseId\": course_id})\n",
    "print(\"Original: \", course[\"isPublished\"])\n",
    "\n",
    "edhub.publish_course(course_id=course_id)\n",
    "course = edhub.courses_col.find_one({\"courseId\": course_id})\n",
    "print(\"Updated: \", course[\"isPublished\"])\n"
   ]
  },
  {
   "cell_type": "code",
   "execution_count": 102,
   "id": "1d1cd002",
   "metadata": {},
   "outputs": [
    {
     "name": "stdout",
     "output_type": "stream",
     "text": [
      "Original:  40\n",
      "Updated:  40\n"
     ]
    }
   ],
   "source": [
    "# Update assignment grade\n",
    "\n",
    "submission_id = \"s1\"\n",
    "grade = 40\n",
    "feedback = \"Good work\"\n",
    "\n",
    "submission = edhub.submissions_col.find_one({\"submissionId\": submission_id})\n",
    "print(\"Original: \", submission[\"grade\"])\n",
    "\n",
    "edhub.update_assignment_grade(submission_id=submission_id, grade=grade, feedback=feedback)\n",
    "\n",
    "submission = edhub.submissions_col.find_one({\"submissionId\": submission_id})\n",
    "print(\"Updated: \", submission[\"grade\"])"
   ]
  },
  {
   "cell_type": "code",
   "execution_count": 103,
   "id": "9b12d0fb",
   "metadata": {},
   "outputs": [
    {
     "name": "stdout",
     "output_type": "stream",
     "text": [
      "Original:  ['JavaScript', 'Web']\n",
      "Updated:  ['JavaScript', 'Web', 'Nodejs']\n"
     ]
    }
   ],
   "source": [
    "# Add tags to an existing course\n",
    "course_id = \"c1\"\n",
    "\n",
    "course = edhub.courses_col.find_one({\"courseId\": course_id})\n",
    "print(\"Original: \", course[\"tags\"])\n",
    "\n",
    "edhub.add_tags_to_course(course_id=course_id, tags=[\"Nodejs\"])\n",
    "\n",
    "course = edhub.courses_col.find_one({\"courseId\": course_id})\n",
    "print(\"Updated: \", course[\"tags\"])\n"
   ]
  },
  {
   "cell_type": "markdown",
   "id": "14803f57",
   "metadata": {},
   "source": [
    "### Delete Operations"
   ]
  },
  {
   "cell_type": "code",
   "execution_count": null,
   "id": "f68fa4f2",
   "metadata": {},
   "outputs": [],
   "source": []
  }
 ],
 "metadata": {
  "kernelspec": {
   "display_name": "venv",
   "language": "python",
   "name": "python3"
  },
  "language_info": {
   "codemirror_mode": {
    "name": "ipython",
    "version": 3
   },
   "file_extension": ".py",
   "mimetype": "text/x-python",
   "name": "python",
   "nbconvert_exporter": "python",
   "pygments_lexer": "ipython3",
   "version": "3.13.3"
  }
 },
 "nbformat": 4,
 "nbformat_minor": 5
}
